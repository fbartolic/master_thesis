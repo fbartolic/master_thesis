{
 "cells": [
  {
   "cell_type": "code",
   "execution_count": 2,
   "metadata": {
    "collapsed": true
   },
   "outputs": [],
   "source": [
    "import numpy as np\n",
    "from matplotlib import pyplot as plt\n",
    "import matplotlib as mpl\n",
    "import pandas as pd\n",
    "from scipy.integrate import odeint\n",
    "\n",
    "mpl.rcParams['axes.labelsize'] = 18\n",
    "mpl.rcParams['xtick.labelsize'] = 12\n",
    "mpl.rcParams['ytick.labelsize'] = 12\n",
    "mpl.rcParams['axes.titlesize'] = 20\n",
    "# import seaborn as sns\n",
    "%matplotlib inline"
   ]
  },
  {
   "cell_type": "code",
   "execution_count": 7,
   "metadata": {
    "collapsed": false
   },
   "outputs": [],
   "source": [
    "def lagrange_equations(var, t, params):\n",
    "    \"\"\"\n",
    "    Defines the differential equations for the secular evolution of \n",
    "    a three body system.\n",
    "    \n",
    "    Arguments:\n",
    "        var :  vector of the state variables:\n",
    "                  var = [e_i, w_i, e_o, w_o]\n",
    "        t :  time\n",
    "        params :  vector of the parameters:\n",
    "                  params = [m1, m2, m3, nu_i, nu_o, a_i, alpha]\n",
    "    \"\"\"\n",
    "    e_i, w_i, e_o, w_o = var\n",
    "    m1, m2, m3, nu_i, nu_o, alpha = params\n",
    "    m12 = m1 + m2\n",
    "    # Calculate derivatives\n",
    "    f = np.array([\n",
    "        -nu_i*(15/16.)*(m3/m12)*(m1 - m2)/m12*alpha**4*e_o*\\\n",
    "        (1 + 3/4*e_i**2)*(1 - e_i**2)**.5/(1 - e_o**2)**2.5*np.sin(w_i - w_o),\n",
    "        \n",
    "        nu_i*m3/m12*(3/4*alpha**3*(1 - e_i**2)**.5/(1 - e_o**2)**(3/2.) -\\\n",
    "        15/16.)*(m1 - m2)/m12*alpha**4*e_o*(1 + 9/4*e_i**2)*(1 - e_i**2)**.5/\\\n",
    "        e_i*(1 - e_o**2)**2.5*np.cos(w_i - w_o),\n",
    "        \n",
    "        nu_o*15/16.*m1*m2/m12**2*(m1 - m2)/m12*alpha**3*e_i*(1 + 3/4.*e_i**2)/\\\n",
    "        (1 - e_o**2)**2*np.sin(w_i - w_o),\n",
    "        \n",
    "        nu_o*m1*m2/m12**2*(3/4.*alpha**2*(1 + 3/2.*e_i**2)/(1 - e_o**2)**2 -\\\n",
    "        15/16.*(m1 - m2)/m12*alpha**3*(1 + 3/4.*e_i**2)*e_i/e_o*(1 + 4*e_o**2)/\\\n",
    "        (1 - e_o**2)**3*np.cos(w_i - w_o))\n",
    "    ])\n",
    "    \n",
    "    return f\n",
    "\n",
    "# Parameter values:\n",
    "m1 = 0.81\n",
    "m2 = 0.89\n",
    "m3 = 0.12*9.5458e-04\n",
    "nu_i = 2*np.pi/20.733\n",
    "nu_o = 2*np.pi/131.458\n",
    "\n",
    "# ratio of semi-major axes from Kepler's third law\n",
    "alpha = ((m1 + m2)/(m1 + m2 + m3))**(1/3.) * (nu_o/nu_i)**(2/3.)\n",
    "\n",
    "# Initial conditions \n",
    "e_i = 0.14210\n",
    "w_i = 0.\n",
    "e_o = 0.042\n",
    "w_o = np.pi/2.\n",
    "\n",
    "# ODE solver parameters\n",
    "abserr = 1.0e-8\n",
    "relerr = 1.0e-6\n",
    "\n",
    "# Time grid\n",
    "t = np.linspace(0, 1e06, 1000)\n",
    "\n",
    "params = np.array([m1, m2, m3, nu_i, nu_o, alpha])\n",
    "var0 = np.array([e_i, w_i, e_o, w_o])\n",
    "\n",
    "# Call the ODE solver.\n",
    "sol = odeint(lagrange_equations, var0, t, args=(params,),\n",
    "              atol=abserr, rtol=relerr)"
   ]
  },
  {
   "cell_type": "code",
   "execution_count": 9,
   "metadata": {
    "collapsed": false,
    "scrolled": false
   },
   "outputs": [
    {
     "ename": "TypeError",
     "evalue": "tuple indices must be integers or slices, not tuple",
     "output_type": "error",
     "traceback": [
      "\u001b[0;31m---------------------------------------------------------------------------\u001b[0m",
      "\u001b[0;31mTypeError\u001b[0m                                 Traceback (most recent call last)",
      "\u001b[0;32m<ipython-input-9-de8f13a5f21f>\u001b[0m in \u001b[0;36m<module>\u001b[0;34m()\u001b[0m\n\u001b[1;32m      4\u001b[0m \u001b[0;34m\u001b[0m\u001b[0m\n\u001b[1;32m      5\u001b[0m \u001b[0;32mfor\u001b[0m \u001b[0mi\u001b[0m\u001b[0;34m,\u001b[0m \u001b[0ma\u001b[0m \u001b[0;32min\u001b[0m \u001b[0menumerate\u001b[0m\u001b[0;34m(\u001b[0m\u001b[0max\u001b[0m\u001b[0;34m.\u001b[0m\u001b[0mravel\u001b[0m\u001b[0;34m(\u001b[0m\u001b[0;34m)\u001b[0m\u001b[0;34m)\u001b[0m\u001b[0;34m:\u001b[0m\u001b[0;34m\u001b[0m\u001b[0m\n\u001b[0;32m----> 6\u001b[0;31m     \u001b[0ma\u001b[0m\u001b[0;34m.\u001b[0m\u001b[0mplot\u001b[0m\u001b[0;34m(\u001b[0m\u001b[0mt\u001b[0m\u001b[0;34m/\u001b[0m\u001b[0;36m1.e06\u001b[0m\u001b[0;34m,\u001b[0m \u001b[0msol\u001b[0m\u001b[0;34m[\u001b[0m\u001b[0;34m:\u001b[0m\u001b[0;34m,\u001b[0m \u001b[0mi\u001b[0m\u001b[0;34m]\u001b[0m\u001b[0;34m)\u001b[0m\u001b[0;34m;\u001b[0m\u001b[0;34m\u001b[0m\u001b[0m\n\u001b[0m\u001b[1;32m      7\u001b[0m     \u001b[0ma\u001b[0m\u001b[0;34m.\u001b[0m\u001b[0mset_xlabel\u001b[0m\u001b[0;34m(\u001b[0m\u001b[0;34mr'$t$ [Myr]'\u001b[0m\u001b[0;34m)\u001b[0m\u001b[0;34m\u001b[0m\u001b[0m\n\u001b[1;32m      8\u001b[0m \u001b[0;34m\u001b[0m\u001b[0m\n",
      "\u001b[0;31mTypeError\u001b[0m: tuple indices must be integers or slices, not tuple"
     ]
    },
    {
     "data": {
      "image/png": "[encoded data removed]",
      "text/plain": [
       "<matplotlib.figure.Figure at 0x7f1e6f19bef0>"
      ]
     },
     "metadata": {},
     "output_type": "display_data"
    }
   ],
   "source": [
    "# Plot results\n",
    "fig, ax = plt.subplots(2,2, figsize=(14,10))\n",
    "fig.subplots_adjust(wspace=.3)\n",
    "\n",
    "for i, a in enumerate(ax.ravel()):\n",
    "    a.plot(t/1.e06, sol[:, i]);\n",
    "    a.set_xlabel(r'$t$ [Myr]')\n",
    "    \n",
    "ax[0, 0].set_ylabel(r'$e_i$')\n",
    "ax[0, 1].set_ylabel(r'$\\varpi_i$')\n",
    "ax[1, 0].set_ylabel(r'$e_o$')\n",
    "ax[1, 1].set_ylabel(r'$\\varpi_o$')\n",
    "# ax[0, 0].set_ylim(0., 0.143)"
   ]
  },
  {
   "cell_type": "code",
   "execution_count": null,
   "metadata": {
    "collapsed": true
   },
   "outputs": [],
   "source": []
  }
 ],
 "metadata": {
  "kernelspec": {
   "display_name": "Python [conda root]",
   "language": "python",
   "name": "conda-root-py"
  },
  "language_info": {
   "codemirror_mode": {
    "name": "ipython",
    "version": 3
   },
   "file_extension": ".py",
   "mimetype": "text/x-python",
   "name": "python",
   "nbconvert_exporter": "python",
   "pygments_lexer": "ipython3",
   "version": "3.5.2"
  }
 },
 "nbformat": 4,
 "nbformat_minor": 2
}
