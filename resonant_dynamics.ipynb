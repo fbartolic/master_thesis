{
 "cells": [
  {
   "cell_type": "code",
   "execution_count": 20,
   "metadata": {},
   "outputs": [
    {
     "data": {
      "text/html": [
       "<style>.container { width:65% !important; }</style>"
      ],
      "text/plain": [
       "<IPython.core.display.HTML object>"
      ]
     },
     "metadata": {},
     "output_type": "display_data"
    }
   ],
   "source": [
    "import numpy as np\n",
    "from matplotlib import pyplot as plt\n",
    "import matplotlib as mpl\n",
    "from sympy import *\n",
    "\n",
    "mpl.rcParams['axes.labelsize'] = 18\n",
    "mpl.rcParams['xtick.labelsize'] = 12\n",
    "mpl.rcParams['ytick.labelsize'] = 12\n",
    "mpl.rcParams['axes.titlesize'] = 20\n",
    "\n",
    "%matplotlib inline\n",
    "\n",
    "init_printing(use_unicode=False, wrap_line=True)\n",
    "\n",
    "# Make cells narrower for better typography\n",
    "from IPython.core.display import display, HTML\n",
    "display(HTML(\"<style>.container { width:65% !important; }</style>\"))"
   ]
  },
  {
   "cell_type": "markdown",
   "metadata": {},
   "source": [
    "# The Disturbing Function"
   ]
  },
  {
   "cell_type": "markdown",
   "metadata": {},
   "source": [
    "We use the expansion developed in Mardling(2013), RM2013 for short. RM2013 develops two different expansions of the pertrubing part of the three body hamiltonian. The first expansion is in terms of spherical harmonics and is in principle exact in eccentricities and approximate in the ratio of semi-major axes. The second \"principal\" expansion is exact in the ratio of semi-major axes $\\alpha=a_i/a_o$ and approximate in eccentricities, we use the first expansion here. The first expension has terms involving Hansen coefficients which are functions of the eccentricities and can in principle be calculated exactly.\n",
    "\n",
    "The disturbing function has two parts, the secular part $\\mathcal{R}_{sec}$ which doesn't depend on the fast varying longitudes and the resonant part $\\mathcal{R}_{res}$. In our case, we expand the secular part up to quadropole order, in this case there exists a closed-form expression for the Hansen coefficients and the secular part is exact in the eccentricities.\n",
    "\n",
    "For the resonant part, we use only the dominant resonant (again quadropole) term in case of the $n:1$ resonance. It is the term with $m=2$ in the RM2013 expansion. In this case however, there are no closed-form expressions for the Hansen coefficients and we can either calculate them numerically, or use a good enuogh series approximation, we opt for the latter. We can then write down the expression for the whole disturbing function.\n",
    "\n",
    "The secular part of the distrubing function to quadropole order is\n",
    "\n",
    "$$\\mathcal{R}_{sec} = \\frac{G \\mu_i a_{i}^{2} m_{3} \\left(\\frac{3 e_{i}^{2}}{2} + 1\\right)}{4 a_{o}^{3} \\left(- e_{o}^{2} + 1\\right)^{\\frac{3}{2}}}\\cos(\\lambda_i - n\\lambda_o+\\omega_i-(2-n)\\omega_o)$$\n",
    "\n",
    "The resonant part of the disturbing function for $m=2$ and $l=2$ is given by\n",
    "\n",
    "$$\\mathcal{R}_{res} = \\frac{3}{4}\\frac{G\\mu_im_3}{a_o}\\left(\\frac{a_i}{a_o}\\right)^2X^{2,2}_1(e_i)\\,X^{-3,2}_{n'}(e_o)$$\n",
    "\n",
    "Where $X^{2,2}_1(e_i)$ and $X^{-3,2}_{n'}(e_o)$ are Hansen coefficients which can be calculated as a series expansion in eccentricity to arbitrary order."
   ]
  },
  {
   "cell_type": "markdown",
   "metadata": {},
   "source": [
    "## Calculation of the Hansen coefficients"
   ]
  },
  {
   "cell_type": "markdown",
   "metadata": {},
   "source": [
    "This is implemented in Mathematica because for some reason it runs forever in Sympy. Unfortunately, at this point we have to specify the order of the resonance because it's not easy to calculate the Hansen coefficients for arbitrary $n$. For now, we choose $n=6$, the resulting coefficients are:\n",
    "\n",
    "$$X^{2,2}_1(e_i) = -3e_i+\\frac{13}{8}e_i^3+\\frac{5}{192}e_i^5$$\n",
    "\n",
    "$$X^{-3,2}_6(e_o)=\\frac{533}{16}e_o^4-\\frac{13827}{160}e_o^6+\\frac{104127}{1280}e_o^8$$\n"
   ]
  },
  {
   "cell_type": "code",
   "execution_count": 21,
   "metadata": {},
   "outputs": [
    {
     "data": {
      "image/png": "[encoded data removed]",
      "text/latex": [
       "$$- \\frac{13827 e_{o}^{6}}{160} + \\frac{533 e_{o}^{4}}{16}$$"
      ],
      "text/plain": [
       "           6          4\n",
       "  13827*e_o    533*e_o \n",
       "- ---------- + --------\n",
       "     160          16   "
      ]
     },
     "execution_count": 21,
     "metadata": {},
     "output_type": "execute_result"
    }
   ],
   "source": [
    "# Define symbols for orbital elements and constants\n",
    "mu_i, mu_o, a_i, a_o, e_i, e_o, m3, n, G = \\\n",
    "symbols(\"\\mu_i,\\mu_o,a_i,a_o,e_i,e_o,m_3,n,G\", positive=True, real=True)\n",
    "R_sec, R_res, R = symbols(\"\\mathcal{R}_{sec}, \\mathcal{R}_{res}, \\mathcal{R}\", real=True)\n",
    "lambda_i, lambda_o, w_i, w_o = symbols(\"\\lambda_i, \\lambda_o, \\omega_i, \\omega_o\", real=True)\n",
    "\n",
    "X_in = -3*e_i + 13*e_i**3/8\n",
    "X_ou = 533*e_o**4/16 - 13827*e_o**6/160\n",
    "X_ou"
   ]
  },
  {
   "cell_type": "code",
   "execution_count": 22,
   "metadata": {
    "collapsed": true
   },
   "outputs": [],
   "source": [
    "# Resonant part of the disturbing function\n",
    "R_res = Rational(3,4)*G*mu_i/a_o*(a_i/a_o)**2*X_in*X_ou\\\n",
    "*cos(6*lambda_o - lambda_i +4*w_o + w_i)\n",
    "\n",
    "# Secular part of the disturbing function\n",
    "R_sec = G*mu_i*m3/(4*a_o)*(a_i/a_o)**2*(1 + 3*e_i**2/2)/(1 - e_o**2)**(Rational(3, 2))"
   ]
  },
  {
   "cell_type": "markdown",
   "metadata": {},
   "source": [
    "The resonant part has a leading term of order $e_o^4$, for now, we only keep that term and we expand the secular part to the same order."
   ]
  },
  {
   "cell_type": "code",
   "execution_count": 23,
   "metadata": {
    "collapsed": true
   },
   "outputs": [],
   "source": [
    "R_sec = series(R_sec, e_o, 0, 5).removeO()\n",
    "R_res = series(R_res, e_o, 0, 5).removeO()\n",
    "\n",
    "R = R_res"
   ]
  },
  {
   "cell_type": "markdown",
   "metadata": {},
   "source": [
    "# Introduce Poincaré variables"
   ]
  },
  {
   "cell_type": "markdown",
   "metadata": {},
   "source": [
    "Poincaré variables for the inner binary are defined as:\n",
    "\n",
    "$$\\lambda_i = \\lambda_i,\\quad \\Lambda_i = \\mu_i \\sqrt{G m_{12} a_i} $$\n",
    "$$\\gamma_i = -\\omega_i,\\quad \\Gamma_i = \\mu_i \\sqrt{G m_{12} a_i} (1-\\sqrt{1-e_i^2})$$\n",
    "$$z_i=0,\\quad Z_i = \\mu_i \\sqrt{G m_{12} a_i(1-e_i^2)}$$\n",
    "\n",
    "Similarly, for the outer binary:\n",
    "\n",
    "$$\\lambda_o = \\lambda_o,\\quad \\Lambda_o = \\mu_o \\sqrt{G m_{123} a_o}$$\n",
    "$$\\gamma_o = -\\omega_o,\\quad \\Gamma_o = \\mu_o \\sqrt{G m_{123} a_o} (1-\\sqrt{1-e_o^2})$$\n",
    "$$z_o=0,\\quad Z_i = \\mu_o \\sqrt{G m_{123} a_o(1-e_o^2)}$$\n",
    "\n",
    "We can solve the above system to obtain the expression for the orbital elements expressed in terms of Poincaré momenta. Since the new coordinates and momenta are functions of both the previous momenta and the coordinates, it is not guaranteed that the transformation is canonical, however, it is known from the literature that this transformation is canonical."
   ]
  },
  {
   "cell_type": "code",
   "execution_count": 24,
   "metadata": {},
   "outputs": [
    {
     "data": {
      "image/png": "[encoded data removed]",
      "text/latex": [
       "$$\\left ( \\frac{\\Lambda_i^{2}}{G \\mu_i^{2} m_{12}}, \\quad \\frac{1}{\\Lambda_i} \\sqrt{\\Lambda_i^{2} - \\left(\\Gamma_{i} - \\Lambda_i\\right)^{2}}\\right )$$"
      ],
      "text/plain": [
       "                     _____________________________________ \n",
       "             2      /          2                        2  \n",
       "    \\Lambda_i     \\/  \\Lambda_i  - (Gamma_i - \\Lambda_i)   \n",
       "(---------------, ----------------------------------------)\n",
       "        2                        \\Lambda_i                 \n",
       " G*\\mu_i *m_{12}                                           "
      ]
     },
     "execution_count": 24,
     "metadata": {},
     "output_type": "execute_result"
    }
   ],
   "source": [
    "# Define Poincaré variables\n",
    "Lambda_i, Gamma_i, Z_i, Lambda_o, Gamma_o, Z_o, m12, m123\\\n",
    "    = symbols(\"\\Lambda_i, Gamma_i, Z_i, \\Lambda_o, Gamma_o, Z_o, m_{12}, m_{123}\",\n",
    "              real=True, positive=True)  \n",
    "gamma_o, gamma_i = symbols(\"\\gamma_o, \\gamma_i\", real=True)\n",
    "    \n",
    "# Solve for orbital elements in terms of Poincaré variables\n",
    "x = solve([Eq(mu_i*sqrt(G*m12*a_i) - Lambda_i),\n",
    "             Eq(mu_i*sqrt(G*m12*a_i)*(1 - sqrt(1 - e_i**2)) - Gamma_i)], [a_i, e_i])\n",
    "\n",
    "# the first sol. has neg. ecc.\n",
    "x[1] "
   ]
  },
  {
   "cell_type": "markdown",
   "metadata": {},
   "source": [
    "Therefore, we, the orbital elements in terms of Poincare coordinates are given by:\n",
    "\n",
    "$$a_i = \\frac{\\Lambda_i^{2}}{G \\mu_i^{2} m_{12}}$$\n",
    "\n",
    "$$e_i = \\frac{1}{\\Lambda_i} \\sqrt{\\Lambda_i^{2} - \\left(\\Gamma_{i} - \\Lambda_i\\right)^{2}}$$\n",
    "\n",
    "and for the outer part:\n",
    "\n",
    "$$a_o = \\frac{\\Lambda_o^{2}}{G \\mu_o^{2} m_{123}}$$\n",
    "\n",
    "$$e_o = \\frac{1}{\\Lambda_o} \\sqrt{\\Lambda_o^{2} - \\left(\\Gamma_{o} - \\Lambda_o\\right)^{2}}$$\n",
    "\n",
    "we can now write the Disturbing function in Poincaré variables:"
   ]
  },
  {
   "cell_type": "code",
   "execution_count": 25,
   "metadata": {},
   "outputs": [
    {
     "data": {
      "image/png": "[encoded data removed]",
      "text/latex": [
       "$$\\frac{1}{\\Lambda_o^{4}} \\left(\\Lambda_o^{2} - \\left(\\Gamma_{o} - \\Lambda_o\\right)^{2}\\right)^{2} \\left(- \\frac{4797 G^{2} \\Lambda_i^{3} \\mu_o^{6} m_{123}^{3}}{64 \\Lambda_o^{6} \\mu_i^{3} m_{12}^{2}} \\sqrt{\\Lambda_i^{2} - \\left(\\Gamma_{i} - \\Lambda_i\\right)^{2}} \\cos{\\left (\\gamma_i + 4 \\gamma_o + \\lambda_i - 6 \\lambda_o \\right )} + \\frac{20787 G^{2} \\Lambda_i \\mu_o^{6} m_{123}^{3}}{512 \\Lambda_o^{6} \\mu_i^{3} m_{12}^{2}} \\left(\\Lambda_i^{2} - \\left(\\Gamma_{i} - \\Lambda_i\\right)^{2}\\right)^{\\frac{3}{2}} \\cos{\\left (\\gamma_i + 4 \\gamma_o + \\lambda_i - 6 \\lambda_o \\right )}\\right)$$"
      ],
      "text/plain": [
       "                                       /                                      \n",
       "                                     2 |        2          3      6        3  \n",
       "/         2                        2\\  |  4797*G *\\Lambda_i *\\mu_o *m_{123} *\\\n",
       "\\\\Lambda_o  - (Gamma_o - \\Lambda_o) / *|- ------------------------------------\n",
       "                                       |                                      \n",
       "                                       \\                                      \n",
       "------------------------------------------------------------------------------\n",
       "                                                                              \n",
       "                                                                              \n",
       "\n",
       "  _____________________________________                                       \n",
       " /          2                        2                                        \n",
       "/  \\Lambda_i  - (Gamma_i - \\Lambda_i)  *cos(\\gamma_i + 4*\\gamma_o + \\lambda_i \n",
       "------------------------------------------------------------------------------\n",
       "                          6      3       2                                    \n",
       "              64*\\Lambda_o *\\mu_i *m_{12}                                     \n",
       "------------------------------------------------------------------------------\n",
       "                                                                             4\n",
       "                                                                    \\Lambda_o \n",
       "\n",
       "                                                                              \n",
       "                        2                6        3 /         2               \n",
       "- 6*\\lambda_o)   20787*G *\\Lambda_i*\\mu_o *m_{123} *\\\\Lambda_i  - (Gamma_i - \\\n",
       "-------------- + -------------------------------------------------------------\n",
       "                                                                              \n",
       "                                                                  512*\\Lambda_\n",
       "------------------------------------------------------------------------------\n",
       "                                                                              \n",
       "                                                                              \n",
       "\n",
       "           3/2                                                     \\\n",
       "         2\\                                                        |\n",
       "Lambda_i) /   *cos(\\gamma_i + 4*\\gamma_o + \\lambda_i - 6*\\lambda_o)|\n",
       "-------------------------------------------------------------------|\n",
       " 6      3       2                                                  |\n",
       "o *\\mu_i *m_{12}                                                   /\n",
       "--------------------------------------------------------------------\n",
       "                                                                    \n",
       "                                                                    "
      ]
     },
     "execution_count": 25,
     "metadata": {},
     "output_type": "execute_result"
    }
   ],
   "source": [
    "k_i, k_o = symbols(\"k_i k_o\", real=True, positive=True)\n",
    "# Disturbing function in Poincaré coordinates\n",
    "R = R.subs({a_i: Lambda_i**2/(G*mu_i**2*m12),\n",
    "            e_i: sqrt(Lambda_i**2 - (Gamma_i - Lambda_i)**2)/Lambda_i,\n",
    "            a_o: Lambda_o**2/(G*mu_o**2*m123),\n",
    "            e_o: sqrt(Lambda_o**2 - (Gamma_o - Lambda_o)**2)/Lambda_o,\n",
    "            w_i: -gamma_i,\n",
    "            w_o: -gamma_o})\n",
    "R"
   ]
  },
  {
   "cell_type": "markdown",
   "metadata": {},
   "source": [
    "# The complete Hamiltonian in Poincaré coordinates"
   ]
  },
  {
   "cell_type": "markdown",
   "metadata": {},
   "source": [
    "### The Keplerian part"
   ]
  },
  {
   "cell_type": "markdown",
   "metadata": {},
   "source": [
    "The complete Hamiltonian of the three body system is given by \n",
    "\n",
    "$$\\mathcal{H}=\\mathcal{H}_{kepler}-\\mathcal{R}$$\n",
    "\n",
    "where $\\mathcal{H}_{kepler}$ is the Keplerian part."
   ]
  },
  {
   "cell_type": "code",
   "execution_count": 26,
   "metadata": {},
   "outputs": [
    {
     "data": {
      "image/png": "[encoded data removed]",
      "text/latex": [
       "$$- \\frac{G^{2} \\mu_o^{3} m_{123}^{2}}{2 \\Lambda_o^{2}} - \\frac{G^{2} \\mu_i^{3} m_{12}^{2}}{2 \\Lambda_i^{2}}$$"
      ],
      "text/plain": [
       "   2      3        2    2      3       2\n",
       "  G *\\mu_o *m_{123}    G *\\mu_i *m_{12} \n",
       "- ------------------ - -----------------\n",
       "                2                    2  \n",
       "     2*\\Lambda_o          2*\\Lambda_i   "
      ]
     },
     "execution_count": 26,
     "metadata": {},
     "output_type": "execute_result"
    }
   ],
   "source": [
    "H = Symbol('\\mathcal{H}', real=True)\n",
    "H_k = Symbol('mathcal{H}_{Kepler}', real=True)\n",
    "H_k = - G**2*m12**2*mu_i**3/(2*Lambda_i**2) - G**2*m123**2*mu_o**3/(2*Lambda_o**2)\n",
    "H_k"
   ]
  },
  {
   "cell_type": "markdown",
   "metadata": {},
   "source": [
    "$$\\mathcal{H}_{Kepler}=- \\frac{G^{2} \\mu_o^{3} m_{123}^{2}}{2 \\Lambda_o^{2}} - \\frac{G^{2} \\mu_i^{3} m_{12}^{2}}{2 \\Lambda_i^{2}}$$"
   ]
  },
  {
   "cell_type": "markdown",
   "metadata": {},
   "source": [
    "Since we're interested in behaviour close to resonance, we can expanded the Keplerian Hamiltonain in a series around a $\\Lambda$ wchich corresponds to exact resonance, we denote this value of $\\Lambda$ as $[\\Lambda]$."
   ]
  },
  {
   "cell_type": "code",
   "execution_count": 27,
   "metadata": {},
   "outputs": [
    {
     "data": {
      "image/png": "[encoded data removed]",
      "text/latex": [
       "$$\\left ( - \\frac{3 G^{2}}{[\\Lambda_i]^{2}} \\mu_i^{3} m_{12}^{2}, \\quad - \\frac{3 G^{2}}{[\\Lambda_o]^{2}} \\mu_o^{3} m_{123}^{2}, \\quad \\frac{4 \\Lambda_i}{[\\Lambda_i]^{3}} G^{2} \\mu_i^{3} m_{12}^{2}, \\quad \\frac{4 \\Lambda_o}{[\\Lambda_o]^{3}} G^{2} \\mu_o^{3} m_{123}^{2}, \\quad - \\frac{3 G^{2} \\Lambda_i^{2} \\mu_i^{3}}{2 [\\Lambda_i]^{4}} m_{12}^{2}, \\quad - \\frac{3 G^{2} \\Lambda_o^{2} \\mu_o^{3}}{2 [\\Lambda_o]^{4}} m_{123}^{2}\\right )$$"
      ],
      "text/plain": [
       "     2      3       2       2      3        2      2                3       2 \n",
       " -3*G *\\mu_i *m_{12}    -3*G *\\mu_o *m_{123}    4*G *\\Lambda_i*\\mu_i *m_{12}  \n",
       "(---------------------, ----------------------, -----------------------------,\n",
       "                 2                      2                           3         \n",
       "      [\\Lambda_i]            [\\Lambda_o]                 [\\Lambda_i]          \n",
       "\n",
       "    2                3        2      2          2      3       2       2      \n",
       " 4*G *\\Lambda_o*\\mu_o *m_{123}   -3*G *\\Lambda_i *\\mu_i *m_{12}    -3*G *\\Lamb\n",
       " ------------------------------, --------------------------------, -----------\n",
       "                     3                                 4                      \n",
       "          [\\Lambda_o]                     2*[\\Lambda_i]                      2\n",
       "\n",
       "    2      3        2  \n",
       "da_o *\\mu_o *m_{123}   \n",
       "----------------------)\n",
       "            4          \n",
       "*[\\Lambda_o]           "
      ]
     },
     "execution_count": 27,
     "metadata": {},
     "output_type": "execute_result"
    }
   ],
   "source": [
    "LLambda_o, LLambda_i  = symbols(\"[\\Lambda_o] [\\Lambda_i]\", real=True, positive=True)\n",
    "tmp1 = series(H_k.args[0], Lambda_i, LLambda_i, 3).removeO()\n",
    "tmp2 = series(H_k.args[1], Lambda_o, LLambda_o, 3).removeO()\n",
    "H_k = expand(tmp1 + tmp2)\n",
    "H_k.args"
   ]
  },
  {
   "cell_type": "code",
   "execution_count": 28,
   "metadata": {
    "collapsed": true
   },
   "outputs": [],
   "source": [
    "H_k_exp = H_k.args[0] + H_k.args[1] + H_k.args[2] + H_k.args[3] + H_k.args[4] + H_k.args[5]\n",
    "n_i, n_o, h_i, h_o = symbols(\"n_i n_o h_i h_o\", real=True, positive=True)"
   ]
  },
  {
   "cell_type": "markdown",
   "metadata": {},
   "source": [
    "This can be written as\n",
    "\n",
    "$$\\mathcal{H}_{Kepler}=4([n_i]\\Lambda_i + [n_o]\\Lambda_o) - \\frac{3}{2}([h_i]\\Lambda_i^2 + [h_o]\\Lambda_o^2)$$\n",
    "\n",
    "where\n",
    "\n",
    "$$[n_i]=\\sqrt{\\frac{Gm_{12}}{[a_i]^3}}\\quad[n_o]=\\sqrt{\\frac{Gm_{123}}{[a_o]^3}}$$\n",
    "\n",
    "and\n",
    "\n",
    "$$[h_i]=\\frac{1}{\\mu_i[a_i]^2}\\quad[h_o]=\\frac{1}{\\mu_o[a_o]^2}$$"
   ]
  },
  {
   "cell_type": "code",
   "execution_count": 29,
   "metadata": {},
   "outputs": [
    {
     "data": {
      "image/png": "[encoded data removed]",
      "text/latex": [
       "$$\\left ( \\frac{\\sqrt[3]{G} \\sqrt[3]{m_{12}}}{n_{i}^{\\frac{2}{3}}}, \\quad \\frac{G^{\\frac{2}{3}} \\mu_i}{\\sqrt[3]{n_{i}}} m_{12}^{\\frac{2}{3}}\\right )$$"
      ],
      "text/plain": [
       " 3 ___ 3 ________   2/3             2/3 \n",
       " \\/ G *\\/ m_{12}   G   *\\mu_i*m_{12}    \n",
       "(----------------, --------------------)\n",
       "         2/3             3 _____        \n",
       "      n_i                \\/ n_i         "
      ]
     },
     "execution_count": 29,
     "metadata": {},
     "output_type": "execute_result"
    }
   ],
   "source": [
    "sol = solve([\n",
    "    Eq(n_i - sqrt(G*m12/a_i**3)),\n",
    "    Eq(Lambda_i - mu_i*sqrt(G*m12*a_i))], [a_i, Lambda_i])\n",
    "\n",
    "sol[0]"
   ]
  },
  {
   "cell_type": "markdown",
   "metadata": {},
   "source": [
    "### The disturbing function part"
   ]
  },
  {
   "cell_type": "code",
   "execution_count": 30,
   "metadata": {},
   "outputs": [
    {
     "data": {
      "image/png": "[encoded data removed]",
      "text/latex": [
       "$$- \\frac{3 h_{i}}{2} \\Lambda_i^{2} + 4 \\Lambda_i n_{i} - \\frac{3 h_{o}}{2} \\Lambda_o^{2} + 4 \\Lambda_o n_{o} - \\frac{3 n_{o}^{2}}{h_{o}} - \\frac{3 n_{i}^{2}}{h_{i}}$$"
      ],
      "text/plain": [
       "             2                                    2                           \n",
       "  3*\\Lambda_i *h_i                     3*\\Lambda_o *h_o                     3*\n",
       "- ---------------- + 4*\\Lambda_i*n_i - ---------------- + 4*\\Lambda_o*n_o - --\n",
       "         2                                    2                              h\n",
       "\n",
       "   2        2\n",
       "n_o    3*n_i \n",
       "---- - ------\n",
       "_o      h_i  "
      ]
     },
     "execution_count": 30,
     "metadata": {},
     "output_type": "execute_result"
    }
   ],
   "source": [
    "H_dist = -R\n",
    "\n",
    "H_dist = H_dist.subs({\n",
    "    Lambda_i: LLambda_i,\n",
    "    Lambda_o: LLambda_o\n",
    "})\n",
    "\n",
    "H_k_exp = H_k_exp.subs({\n",
    "    LLambda_i: n_i/h_i,\n",
    "    LLambda_o: n_o/h_o,\n",
    "    m12: n_i**2*(mu_i*h_i)**(-Rational(3,2))/G,\n",
    "    m123: n_o**2*(mu_o*h_o)**(-Rational(3,2))/G\n",
    "})\n",
    "H_k_exp"
   ]
  },
  {
   "cell_type": "code",
   "execution_count": 31,
   "metadata": {},
   "outputs": [
    {
     "data": {
      "image/png": "[encoded data removed]",
      "text/latex": [
       "$$- \\frac{h_{o}^{4}}{n_{o}^{4}} \\left(\\frac{20787 G \\mu_o^{\\frac{3}{2}} h_{i}^{2}}{512 n_{i}^{3}} h_{o}^{\\frac{3}{2}} \\left(- \\left(\\Gamma_{i} - \\frac{n_{i}}{h_{i}}\\right)^{2} + \\frac{n_{i}^{2}}{h_{i}^{2}}\\right)^{\\frac{3}{2}} \\cos{\\left (\\gamma_i + 4 \\gamma_o + \\lambda_i - 6 \\lambda_o \\right )} - \\frac{4797 G \\mu_o^{\\frac{3}{2}} h_{o}^{\\frac{3}{2}}}{64 n_{i}} \\sqrt{- \\left(\\Gamma_{i} - \\frac{n_{i}}{h_{i}}\\right)^{2} + \\frac{n_{i}^{2}}{h_{i}^{2}}} \\cos{\\left (\\gamma_i + 4 \\gamma_o + \\lambda_i - 6 \\lambda_o \\right )}\\right) \\left(- \\left(\\Gamma_{o} - \\frac{n_{o}}{h_{o}}\\right)^{2} + \\frac{n_{o}^{2}}{h_{o}^{2}}\\right)^{2}$$"
      ],
      "text/plain": [
       "      /                                                        3/2            \n",
       "      |                             /                 2      2\\               \n",
       "      |             3/2    2    3/2 |  /          n_i\\    n_i |               \n",
       "      |20787*G*\\mu_o   *h_i *h_o   *|- |Gamma_i - ---|  + ----|   *cos(\\gamma_\n",
       "      |                             |  \\          h_i/       2|               \n",
       "    4 |                             \\                     h_i /               \n",
       "-h_o *|-----------------------------------------------------------------------\n",
       "      |                                                           3           \n",
       "      \\                                                    512*n_i            \n",
       "------------------------------------------------------------------------------\n",
       "                                                                              \n",
       "                                                                              \n",
       "\n",
       "                                                                         _____\n",
       "                                                                        /     \n",
       "                                                        3/2    3/2     /    / \n",
       "i + 4*\\gamma_o + \\lambda_i - 6*\\lambda_o)   4797*G*\\mu_o   *h_o   *   /   - |G\n",
       "                                                                     /      \\ \n",
       "                                                                   \\/         \n",
       "----------------------------------------- - ----------------------------------\n",
       "                                                                              \n",
       "                                                                              \n",
       "------------------------------------------------------------------------------\n",
       "                                                      4                       \n",
       "                                                   n_o                        \n",
       "\n",
       "______________________                                                     \\  \n",
       "             2      2                                                      |  \n",
       "         n_i\\    n_i                                                       |  \n",
       "amma_i - ---|  + ---- *cos(\\gamma_i + 4*\\gamma_o + \\lambda_i - 6*\\lambda_o)|  \n",
       "         h_i/       2                                                      | /\n",
       "                 h_i                                                       | |\n",
       "---------------------------------------------------------------------------|*|\n",
       "                  64*n_i                                                   | |\n",
       "                                                                           / \\\n",
       "------------------------------------------------------------------------------\n",
       "                                                                              \n",
       "                                                                              \n",
       "\n",
       "                            \n",
       "                            \n",
       "                            \n",
       "                          2 \n",
       "                 2      2\\  \n",
       "  /          n_o\\    n_o |  \n",
       "- |Gamma_o - ---|  + ----|  \n",
       "  \\          h_o/       2|  \n",
       "                     h_o /  \n",
       "----------------------------\n",
       "                            \n",
       "                            "
      ]
     },
     "execution_count": 31,
     "metadata": {},
     "output_type": "execute_result"
    }
   ],
   "source": [
    "H_dist = H_dist.subs({\n",
    "    LLambda_i: n_i/h_i,\n",
    "    LLambda_o: n_o/h_o,\n",
    "    m12: n_i**2*(mu_i*h_i)**(-Rational(3,2))/G,\n",
    "    m123: n_o**2*(mu_o*h_o)**(-Rational(3,2))/G\n",
    "})\n",
    "H_dist"
   ]
  },
  {
   "cell_type": "markdown",
   "metadata": {},
   "source": [
    "### Complete Hamiltonian"
   ]
  },
  {
   "cell_type": "code",
   "execution_count": 32,
   "metadata": {
    "collapsed": true
   },
   "outputs": [],
   "source": [
    "H = H_k_exp + H_dist\n",
    "# H = simplify(H)"
   ]
  },
  {
   "cell_type": "code",
   "execution_count": 33,
   "metadata": {},
   "outputs": [
    {
     "data": {
      "text/plain": [
       "<function sympy.series.series.series>"
      ]
     },
     "execution_count": 33,
     "metadata": {},
     "output_type": "execute_result"
    }
   ],
   "source": [
    "k_i, k_o, K, theta, Theta = symbols(r\"\\mathcal{k_i} \\mathcal{k_o} \\mathcal{K} \\theta \\Theta\",\n",
    "                                    real=True)\n",
    "H = H.subs({\n",
    "    lambda_i: theta -(-6*lambda_o + 4*gamma_o + gamma_i),\n",
    "    Lambda_i: K - Theta,\n",
    "    Lambda_o: 6*Theta,\n",
    "    n_o: n_i/6\n",
    "})\n",
    "\n",
    "# a, b = symbols(r\"\\alpha \\beta\",real=True, positive=True)\n",
    "\n",
    "# sol2 = solve([\n",
    "#     Eq(a - mu_o**Rational(3,2)*G*sqrt(h_i)*h_o**Rational(7,2)*n_i**(-Rational(7,2))),\n",
    "#     Eq(b - mu_o**Rational(3,2)*G*h_i**(-Rational(1,2))*h_o**Rational(7,2)*n_i**(-Rational(5,2)))],\n",
    "#     [h_i, h_o])\n",
    "\n",
    "# sol2[0]\n",
    "\n",
    "# tmp1 = expand(H_dist).args[0]\n",
    "# tmp2 = expand(H_dist).args[1]\n",
    "\n",
    "# tmp1 = tmp1.subs({\n",
    "#     h_i:sol2[0][0],\n",
    "# })\n",
    "# tmp2 = tmp2.subs({\n",
    "#     h_o:sol2[0][1],\n",
    "# })\n",
    "simplify(H)\n",
    "series"
   ]
  },
  {
   "cell_type": "code",
   "execution_count": 34,
   "metadata": {},
   "outputs": [
    {
     "data": {
      "image/png": "[encoded data removed]",
      "text/latex": [
       "$$\\frac{1}{1536 h_{i} h_{o} n_{i}^{7}} \\left(4797 G \\mu_o^{\\frac{3}{2}} h_{o}^{\\frac{5}{2}} \\left(- n_{i}^{2} + \\left(6 \\Gamma_{o} h_{o} - n_{i}\\right)^{2}\\right)^{2} \\sqrt{n_{i}^{2} - \\left(\\Gamma_{i} h_{i} - n_{i}\\right)^{2}} \\left(11 n_{i}^{2} + 13 \\left(\\Gamma_{i} h_{i} - n_{i}\\right)^{2}\\right) \\cos{\\left (\\theta \\right )} + 768 h_{i} h_{o} n_{i}^{7} \\left(- 108 \\Theta^{2} h_{o} + 8 \\Theta n_{i} - 3 h_{i} \\left(\\Theta - \\mathcal{K}\\right)^{2} - 8 n_{i} \\left(\\Theta - \\mathcal{K}\\right)\\right) - 128 h_{i} n_{i}^{9} - 4608 h_{o} n_{i}^{9}\\right)$$"
      ],
      "text/plain": [
       "                                                        2    _________________\n",
       "            3/2    5/2 /     2                        2\\    /    2            \n",
       "4797*G*\\mu_o   *h_o   *\\- n_i  + (6*Gamma_o*h_o - n_i) / *\\/  n_i  - (Gamma_i*\n",
       "------------------------------------------------------------------------------\n",
       "                                                                              \n",
       "                                                                              \n",
       "\n",
       "____________                                                                  \n",
       "          2  /      2                         2\\                              \n",
       "h_i - n_i)  *\\11*n_i  + 13*(Gamma_i*h_i - n_i) /*cos(\\theta) + 768*h_i*h_o*n_i\n",
       "------------------------------------------------------------------------------\n",
       "                                                                        7     \n",
       "                                                        1536*h_i*h_o*n_i      \n",
       "\n",
       "                                                                              \n",
       "7 /            2                                                  2           \n",
       " *\\- 108*\\Theta *h_o + 8*\\Theta*n_i - 3*h_i*(\\Theta - \\mathcal{K})  - 8*n_i*(\\\n",
       "------------------------------------------------------------------------------\n",
       "                                                                              \n",
       "                                                                              \n",
       "\n",
       "                                                    \n",
       "                    \\              9               9\n",
       "Theta - \\mathcal{K})/ - 128*h_i*n_i  - 4608*h_o*n_i \n",
       "----------------------------------------------------\n",
       "                                                    \n",
       "                                                    "
      ]
     },
     "execution_count": 34,
     "metadata": {},
     "output_type": "execute_result"
    }
   ],
   "source": [
    "simplify(H)"
   ]
  },
  {
   "cell_type": "markdown",
   "metadata": {},
   "source": [
    "# Transform to single degree of freedom"
   ]
  },
  {
   "cell_type": "markdown",
   "metadata": {},
   "source": [
    "It is possible to reduce the above Hamiltonian to a single degree of freedom via a canonical transformation which uses the harmonic angle as one of the new positions. The new conjugate positions are given by\n",
    "\n",
    "$$\\theta_1=\\lambda_i-n\\lambda_o+(2-n)\\gamma_o-\\gamma_i$$\n",
    "\n",
    "$$\\theta_2=\\lambda_i-n\\lambda_o+(3-n)\\gamma_o-\\gamma_i$$\n",
    "\n",
    "$$\\theta_3=\\lambda_i$$\n",
    "\n",
    "$$\\theta_4=\\lambda_o$$\n",
    "\n",
    "The conjugate momenta are calculated from the following condition:\n",
    "\n",
    "$$\\sum^4_{k=1}\\Theta_id\\theta_i=\\Lambda_id\\lambda_i+\\Lambda_od\\lambda_o+\\Gamma_id\\gamma_i+\\Gamma_od\\gamma_o$$\n",
    "\n",
    "the result is \n",
    "\n",
    "$$\\Theta_1=(n-3)\\Gamma_i-\\Gamma_o$$\n",
    "\n",
    "$$\\Theta_2=-(n-2)\\Gamma_i+\\Gamma_o$$\n",
    "\n",
    "$$\\Theta_3=\\Gamma_i+\\Lambda_i$$\n",
    "\n",
    "$$\\Theta_4=-\\Gamma_in+\\Lambda_o$$\n",
    "\n",
    "the above transformation is canonical by construction since the new positions/momenta are functions of only the old positions/momenta."
   ]
  },
  {
   "cell_type": "code",
   "execution_count": 35,
   "metadata": {},
   "outputs": [
    {
     "data": {
      "image/png": "[encoded data removed]",
      "text/latex": [
       "$$\\left \\{ \\gamma_i : - n \\theta_{4} + \\theta_{1} \\left(n - 3\\right) - \\theta_{2} \\left(n - 2\\right) + \\theta_{3}, \\quad \\gamma_o : - \\theta_{1} + \\theta_{2}, \\quad \\lambda_i : \\theta_{3}, \\quad \\lambda_o : \\theta_{4}\\right \\}$$"
      ],
      "text/plain": [
       "{\\gamma_i: -n*theta_4 + theta1*(n - 3) - theta_2*(n - 2) + theta_3, \\gamma_o: \n",
       "-theta1 + theta_2, \\lambda_i: theta_3, \\lambda_o: theta_4}"
      ]
     },
     "execution_count": 35,
     "metadata": {},
     "output_type": "execute_result"
    }
   ],
   "source": [
    "theta1, theta2, theta3, theta4  = symbols('\\ttheta1, \\ttheta_2, \\ttheta_3, \\ttheta_4', real=True)\n",
    "Theta1, Theta2, Theta3, Theta4  = symbols(\"\\Theta_1, \\Theta_2, \\Theta_3, \\Theta_4\", real=True)\n",
    "\n",
    "sol = solve([Eq(lambda_i - n*lambda_o + (2 - n)*gamma_o - gamma_i - theta1),\n",
    "        Eq(lambda_i - n*lambda_o + (3 - n)*gamma_o - gamma_i - theta2),\n",
    "        Eq(lambda_i - theta3),\n",
    "        Eq(lambda_o - theta4)], \n",
    "        [lambda_i, lambda_o, gamma_i, gamma_o])\n",
    "sol"
   ]
  },
  {
   "cell_type": "code",
   "execution_count": 36,
   "metadata": {
    "collapsed": true
   },
   "outputs": [],
   "source": [
    "# n = 6\n",
    "# H = H.subs({\n",
    "#     lambda_i:theta3,\n",
    "#     lambda_o:theta4,\n",
    "#     gamma_i:-n*theta4 + theta1*(n - 3) - theta2*(n - 2) + theta3,\n",
    "#     gamma_o:-theta1 + theta2,\n",
    "#     Lambda_i:Theta1 + Theta2 + Theta3,\n",
    "#     Lambda_o:-n*Theta1 - n*Theta2 + Theta4,\n",
    "#     Gamma_i:-Theta1 - Theta2,\n",
    "#     Gamma_o:(2 - n)*Theta1 + (3 - n)*Theta2\n",
    "# })\n",
    "\n",
    "# Phi, phi = symbols(\"\\Phi \\phi\", real=True)\n",
    "\n",
    "# H = H.subs({\n",
    "#     Theta1: Phi,\n",
    "#     theta1: phi\n",
    "# #     Theta2: -4*Gamma_i + Gamma_o,\n",
    "# #     Theta3: Gamma_i + Lambda_i,\n",
    "# #     Theta4: -6*Gamma_i + Lambda_o\n",
    "# })\n",
    "\n",
    "# simplify(H)"
   ]
  },
  {
   "cell_type": "markdown",
   "metadata": {},
   "source": [
    "The above Hamiltonian depends only on a single conjugate position, the harmonic angle $\\theta_1$. The variables $\\theta_2$, $\\theta_3$, $\\theta_4$ are cyclic variables and therefore their corresponding momenta are constant. The Hamiltonian looks hideous, we'll analyze it term by term and try to reduce it to a simpler form. We also define \n",
    "\n",
    "$$\\phi\\equiv\\theta_1\\quad\\Phi\\equiv\\Theta_1$$"
   ]
  },
  {
   "cell_type": "code",
   "execution_count": 37,
   "metadata": {
    "collapsed": true,
    "scrolled": false
   },
   "outputs": [],
   "source": [
    "# x, y = symbols(\"x, y\", real=True)\n",
    "# H_sim = H_1 + H_2 + H_3\n",
    "# H_sim.subs({cos(phi):x/sqrt(x**2 + y**2), Phi:(x**2 + y**2)/2})"
   ]
  },
  {
   "cell_type": "markdown",
   "metadata": {},
   "source": [
    "## Check that the transformation is canonical"
   ]
  },
  {
   "cell_type": "markdown",
   "metadata": {},
   "source": [
    "Consider a coordinate transformation of the form\n",
    "\n",
    "$$(x_1,...,x_n;v_1,..,v_n)\\rightarrow(x'_1,...,x'_n;v'_1,...,v'_n)$$\n",
    "\n",
    "where the conjugate positions and momenta are separated by \";\". It can be shown that the above transformation is canonical if the following conditions are satisfied:\n",
    "\n",
    "\n",
    "$$\\big\\{v_i',v_j'\\big\\}=0\\quad\\big\\{x'_i,x'_j\\big\\}=0\\quad\\big\\{x'_i,v'_j\\big\\}=\\delta_{ij}$$\n",
    "\n",
    "for all pairs $(i, j)$."
   ]
  },
  {
   "cell_type": "code",
   "execution_count": 38,
   "metadata": {
    "collapsed": true
   },
   "outputs": [],
   "source": [
    "# theta1 = lambda_i - n*lambda_o + (2 - n)*gamma_o - gamma_i\n",
    "# theta2 = lambda_i - n*lambda_o + (3 - n)*gamma_o - gamma_i\n",
    "# theta3 = lambda_i\n",
    "# theta4 = lambda_o\n",
    "\n",
    "# Theta1 = (n - 3)*Gamma_i - Gamma_o\n",
    "# Theta2 = -(n - 2)*Gamma_i + Gamma_o\n",
    "# Theta3 = Gamma_i + Lambda_i\n",
    "# Theta4 = -Gamma_i*n + Lambda_o\n",
    "\n",
    "# def poisson_bracket(fi, fj):\n",
    "#     \"\"\"\n",
    "#         Given two coordinates, fi(x1,..,xn;v1..,vn) and\n",
    "#         fi(x1,..,xn;v1..,vn) the function returns their Poisson bracket.\n",
    "#     \"\"\"\n",
    "#     dfidx = Matrix([diff(fi, var) for var in (lambda_i, lambda_o, gamma_i, gamma_o)])\n",
    "#     dfjdv = Matrix([diff(fj, var) for var in (Lambda_i, Lambda_o, Gamma_i, Gamma_o)])\n",
    "#     dfidv = Matrix([diff(fi, var) for var in (Lambda_i, Lambda_o, Gamma_i, Gamma_o)])\n",
    "#     dfjdx = Matrix([diff(fj, var) for var in (lambda_i, lambda_o, gamma_i, gamma_o)])\n",
    "    \n",
    "#     return dfidx.dot(dfjdv) - dfidv.dot(dfjdx)\n",
    "    \n",
    "    \n",
    "# coordinates = [theta1, theta2, theta3, theta4]\n",
    "# momenta = [Theta1, Theta2, Theta3, Theta4]  \n",
    "\n",
    "# for i in range(0,4):\n",
    "#     for j in range(0,4):\n",
    "#         print(\"i = \",i,\"j = \",j,\"\\n\")\n",
    "#         print('{theta_i, theta_j} =', poisson_bracket(coordinates[i], coordinates[j]),\"\\n\")\n",
    "#         print('{Theta_i, Theta_j} =', poisson_bracket(momenta[i], momenta[j]),\"\\n\")\n",
    "#         print('{theta_i, Theta_j} =', poisson_bracket(coordinates[i], momenta[j]),\"\\n\")"
   ]
  }
 ],
 "metadata": {
  "kernelspec": {
   "display_name": "Python [conda root]",
   "language": "python",
   "name": "conda-root-py"
  },
  "language_info": {
   "codemirror_mode": {
    "name": "ipython",
    "version": 3
   },
   "file_extension": ".py",
   "mimetype": "text/x-python",
   "name": "python",
   "nbconvert_exporter": "python",
   "pygments_lexer": "ipython3",
   "version": "3.5.2"
  }
 },
 "nbformat": 4,
 "nbformat_minor": 2
}
