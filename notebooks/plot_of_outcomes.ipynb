{
 "cells": [
  {
   "cell_type": "code",
   "execution_count": 1,
   "metadata": {},
   "outputs": [
    {
     "data": {
      "text/html": [
       "<style>.container { width:65% !important; }</style>"
      ],
      "text/plain": [
       "<IPython.core.display.HTML object>"
      ]
     },
     "metadata": {},
     "output_type": "display_data"
    }
   ],
   "source": [
    "import numpy as np\n",
    "from matplotlib import pyplot as plt\n",
    "import matplotlib as mpl\n",
    "import pandas as pd\n",
    "from binary_c_API import evolve_binary\n",
    "\n",
    "mpl.rc('font',**{'family':'serif','serif':['Palatino']})\n",
    "mpl.rc('text', usetex=True)\n",
    "mpl.rcParams['axes.labelsize'] = 18\n",
    "mpl.rcParams['xtick.labelsize'] = 14\n",
    "mpl.rcParams['ytick.labelsize'] = 14\n",
    "mpl.rcParams['axes.titlesize'] = 20\n",
    "\n",
    "%matplotlib inline\n",
    "\n",
    "# Better looking figures\n",
    "%config InlineBackend.figure_format = 'retina'\n",
    "\n",
    "# Make cells narrower for better typography\n",
    "from IPython.core.display import display, HTML\n",
    "display(HTML(\"<style>.container { width:65% !important; }</style>\"))"
   ]
  },
  {
   "cell_type": "code",
   "execution_count": 2,
   "metadata": {
    "collapsed": true,
    "scrolled": false
   },
   "outputs": [],
   "source": [
    "def outcome(df):\n",
    "    \"\"\"Returns the final outcome of binary evolution. Defined below.\"\"\"\n",
    "\n",
    "    # Test wheater a merger occured\n",
    "    if np.any(df['merged']) == True or np.any(df['coel']) == True:\n",
    "        outcome = 3\n",
    "\n",
    "        # SN occured if there is a NS left over\n",
    "        if np.any(df['type1'] == 13 ) or np.any(df['type2'] == 13 ):\n",
    "            outcome = 4      \n",
    "\n",
    "    # Test weather RLOF occured\n",
    "    elif np.any(df['in_RLOF']) == True:\n",
    "        outcome = 2\n",
    "\n",
    "    else:\n",
    "        outcome = 1\n",
    "        \n",
    "    return outcome\n",
    "        \n",
    "values = np.linspace(0.1, 5, 100)\n",
    "X,Y = np.meshgrid(values, values)\n",
    "Z = np.zeros((len(values), len(values)))\n",
    "\n",
    "P = 50\n",
    "e = 0.6\n",
    "\n",
    "# This will run for a while\n",
    "for m1 in range(len(values)):\n",
    "    for m2 in range(len(values)):\n",
    "        if(m2 <= m1):\n",
    "            df = evolve_binary(13700, values[m1], values[m2], 0.02, P, e)\n",
    "            Z[m1, m2] = outcome(df)"
   ]
  },
  {
   "cell_type": "code",
   "execution_count": 3,
   "metadata": {
    "scrolled": false
   },
   "outputs": [
    {
     "data": {
      "image/png": "[encoded data removed]",
      "text/plain": [
       "<matplotlib.figure.Figure at 0x2b83989773c8>"
      ]
     },
     "metadata": {
      "image/png": {
       "height": 515,
       "width": 503
      }
     },
     "output_type": "display_data"
    }
   ],
   "source": [
    "def discrete_cmap(N, base_cmap=None):\n",
    "    \"\"\"\n",
    "    Create an N-bin discrete colormap from the specified input map.\n",
    "    credit: Jake Vanderplas.\n",
    "    \"\"\"\n",
    "\n",
    "    # Note that if base_cmap is a string or None, you can simply do\n",
    "    #    return plt.cm.get_cmap(base_cmap, N)\n",
    "    # The following works for string, None, or a colormap instance:\n",
    "\n",
    "    base = plt.cm.get_cmap(base_cmap)\n",
    "    color_list = base(np.linspace(0, 1, N))\n",
    "    cmap_name = base.name + str(N)\n",
    "    return base.from_list(cmap_name, color_list, N)\n",
    "\n",
    "\n",
    "# Fill in the other half of the triangle\n",
    "for m1 in range(len(values)):\n",
    "    for m2 in range(len(values)):\n",
    "        if(m2 > m1):  \n",
    "            Z[m1, m2] = Z[m2, m1]\n",
    "            \n",
    "def plot_outcomes(P, e):\n",
    "    fig, ax = plt.subplots(figsize=(8,8))\n",
    "    \n",
    "    # Set colormap\n",
    "    colors = 'PuBu'\n",
    "    N = 4\n",
    "    \n",
    "    pcolor = ax.pcolormesh(X, Y, Z.T, cmap=discrete_cmap(N, colors), \n",
    "                            vmin=1-0.5, vmax=N+1-0.5)\n",
    "#     cbar = plt.colorbar(pcolor, ticks=[1, 2, 3, 4])\n",
    "    \n",
    "    ax.set_xlabel(r'$M_1$')\n",
    "    ax.set_ylabel(r'$M_2$')\n",
    "    ax.set_title(r'$P={0}$ d, $e={1}$'.format(P, e))\n",
    "\n",
    "    # Custom legend\n",
    "    base = plt.cm.get_cmap(colors)\n",
    "    text1 = mpl.patches.Patch(color=base(np.linspace(0, 1, 4))[0, :], label='None')\n",
    "    text2 = mpl.patches.Patch(color=base(np.linspace(0, 1, 4))[1, :], label='CE')\n",
    "    text3 = mpl.patches.Patch(color=base(np.linspace(0, 1, 4))[2, :], label='CE \\& merger')\n",
    "    text4 = mpl.patches.Patch(color=base(np.linspace(0, 1, 4))[3, :], label='SN')\n",
    "\n",
    "    ax.legend(handles=[text1, text2, text3, text4], loc='upper left', prop={'size':16})\n",
    "    \n",
    "    # Minor ticks\n",
    "    minor_locator = mpl.ticker.AutoMinorLocator(2)\n",
    "    ax.xaxis.set_minor_locator(minor_locator)\n",
    "    ax.yaxis.set_minor_locator(minor_locator)\n",
    "    \n",
    "    \n",
    "    ax.tick_params(which='major', length=7)\n",
    "    ax.tick_params(which='minor', length=5)\n",
    "    ax.yaxis.tick_right()\n",
    "    ax.yaxis.set_label_position(\"right\")\n",
    "    ax.grid(True, alpha=0.5)\n",
    "    \n",
    "    # Save to pdf\n",
    "    pcolor.set_edgecolor('face') # remove white lines in some pdf viewers\n",
    "    plt.savefig('figures/stellar_evolution/outcomes_{0}_{1}.pdf'.format(P, e), \n",
    "                bbox_inches='tight')\n",
    "\n",
    "plot_outcomes(P, e)"
   ]
  },
  {
   "cell_type": "code",
   "execution_count": null,
   "metadata": {
    "collapsed": true
   },
   "outputs": [],
   "source": []
  }
 ],
 "metadata": {
  "kernelspec": {
   "display_name": "Python [default]",
   "language": "python",
   "name": "python3"
  },
  "language_info": {
   "codemirror_mode": {
    "name": "ipython",
    "version": 3
   },
   "file_extension": ".py",
   "mimetype": "text/x-python",
   "name": "python",
   "nbconvert_exporter": "python",
   "pygments_lexer": "ipython3",
   "version": "3.5.3"
  }
 },
 "nbformat": 4,
 "nbformat_minor": 2
}
