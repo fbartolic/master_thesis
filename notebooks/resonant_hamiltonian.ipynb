{
 "cells": [
  {
   "cell_type": "code",
   "execution_count": 1,
   "metadata": {},
   "outputs": [
    {
     "data": {
      "text/html": [
       "<style>.container { width:65% !important; }</style>"
      ],
      "text/plain": [
       "<IPython.core.display.HTML object>"
      ]
     },
     "metadata": {},
     "output_type": "display_data"
    },
    {
     "data": {
      "text/html": [
       "<style>.container { width:65% !important; }</style>"
      ],
      "text/plain": [
       "<IPython.core.display.HTML object>"
      ]
     },
     "metadata": {},
     "output_type": "display_data"
    }
   ],
   "source": [
    "import numpy as np\n",
    "from matplotlib import pyplot as plt\n",
    "import matplotlib as mpl\n",
    "from sympy import *\n",
    "\n",
    "mpl.rcParams['axes.labelsize'] = 18\n",
    "mpl.rcParams['xtick.labelsize'] = 12\n",
    "mpl.rcParams['ytick.labelsize'] = 12\n",
    "mpl.rcParams['axes.titlesize'] = 20\n",
    "\n",
    "%matplotlib inline\n",
    "\n",
    "# Better looking figures\n",
    "%config InlineBackend.figure_format = 'retina'\n",
    "\n",
    "# Make cells narrower for better typography\n",
    "from IPython.core.display import display, HTML\n",
    "display(HTML(\"<style>.container { width:65% !important; }</style>\"))\n",
    "\n",
    "init_printing(use_unicode=False, wrap_line=True)\n",
    "\n",
    "# Make cells narrower for better typography\n",
    "from IPython.core.display import display, HTML\n",
    "display(HTML(\"<style>.container { width:65% !important; }</style>\"))"
   ]
  },
  {
   "cell_type": "markdown",
   "metadata": {},
   "source": [
    "# The Disturbing Function"
   ]
  },
  {
   "cell_type": "markdown",
   "metadata": {},
   "source": [
    "We use the expansion developed in Mardling(2013), RM2013 for short. RM2013 develops two different expansions of the pertrubing part of the three body hamiltonian. The first expansion is in terms of spherical harmonics and is in principle exact in eccentricities and approximate in the ratio of semi-major axes. The second \"principal\" expansion is exact in the ratio of semi-major axes $\\alpha=a_i/a_o$ and approximate in eccentricities, we use the first expansion here. The first expension has terms involving Hansen coefficients which are functions of the eccentricities and can in principle be calculated exactly. The expansion\n",
    "uses Jacobi coordinates, symbols with subscript $i$ refere to the \"inner binary\" and those\n",
    "with the subscript $o$ to the \"outer binary\".\n",
    "\n",
    "The disturbing function has two parts, the secular part $\\mathcal{R}_{sec}$ which doesn't depend on the fast varying longitudes and the resonant part $\\mathcal{R}_{res}$. In our case, \n",
    "we neglect the secular part and concentrate on the single resonant term.\n",
    "\n",
    "For the resonant part, we use only the dominant resonant (quadropole, i.e. $\\propto\\alpha^2$) term in case of the $n:1$ resonance. It is the term with $m=2$ in the RM2013 expansion.\n",
    "Unfortunately there are no closed-form expressions for the Hansen coefficients and we can either calculate them numerically, or use a good enough series approximation, we opt for the latter. We can then write down the expression resonant part of the disturbing function.\n",
    "\n",
    "The resonant part of the disturbing function for $m=2$ and $l=2$ is given by\n",
    "\n",
    "$$\\mathcal{R}_{res} = \\frac{3}{4}\\frac{G\\mu_im_3}{a_o}\\left(\\frac{a_i}{a_o}\\right)^2X^{2,2}_1(e_i)\\,X^{-3,2}_{n'}(e_o)\\cos(\\lambda_i - n\\lambda_o+\\omega_i-(2-n)\\omega_o)$$\n",
    "\n",
    "Where $X^{2,2}_1(e_i)$ and $X^{-3,2}_{n'}(e_o)$ are Hansen coefficients which can be calculated as a series expansion in eccentricity to arbitrary order.\n",
    "\n",
    "For reference, the secular part of the distrubing function to quadropole order is\n",
    "\n",
    "$$\\mathcal{R}_{sec} = \\frac{G \\mu_i a_{i}^{2} m_{3} \\left(\\frac{3 e_{i}^{2}}{2} + 1\\right)}{4 a_{o}^{3} \\left(- e_{o}^{2} + 1\\right)^{\\frac{3}{2}}}$$"
   ]
  },
  {
   "cell_type": "markdown",
   "metadata": {},
   "source": [
    "## Calculating the Hansen coefficients"
   ]
  },
  {
   "cell_type": "markdown",
   "metadata": {},
   "source": [
    "This is implemented in Mathematica because for some reason it can't be calculated in Sympy. Unfortunately, at this point we have to specify the order of the resonance because it is\n",
    "not easy to calculate the Hansen coefficients for arbitrary $n$. \n",
    "For now, we choose $n=6$, which corresponds to a 6:1 resonance. The resulting \n",
    "coefficients are:\n",
    "\n",
    "$$X^{2,2}_1(e_i) = -3e_i+\\frac{13}{8}e_i^3+\\frac{5}{192}e_i^5+\\mathcal{O}(e_i^7)$$\n",
    "\n",
    "$$X^{-3,2}_6(e_o)=\\frac{533}{16}e_o^4-\\frac{13827}{160}e_o^6+\\frac{104127}{1280}e_o^8\n",
    "+\\mathcal{O}(e_i^{10})$$\n"
   ]
  },
  {
   "cell_type": "code",
   "execution_count": 2,
   "metadata": {},
   "outputs": [
    {
     "data": {
      "image/png": "[encoded data removed]",
      "text/latex": [
       "$$\\frac{3 G \\mu_i m_{3}}{4 a_{o}^{3}} a_{i}^{2} \\left(\\frac{13 e_{i}^{3}}{8} - 3 e_{i}\\right) \\left(- \\frac{13827 e_{o}^{6}}{160} + \\frac{533 e_{o}^{4}}{16}\\right) \\cos{\\left (- \\lambda_i + 6 \\lambda_o + \\omega_i + 4 \\omega_o \\right )}$$"
      ],
      "text/plain": [
       "                   /      3        \\ /           6          4\\                \n",
       "             2     |13*e_i         | |  13827*e_o    533*e_o |                \n",
       "3*G*\\mu_i*a_i *m_3*|------- - 3*e_i|*|- ---------- + --------|*cos(-\\lambda_i \n",
       "                   \\   8           / \\     160          16   /                \n",
       "------------------------------------------------------------------------------\n",
       "                                                            3                 \n",
       "                                                       4*a_o                  \n",
       "\n",
       "                                      \n",
       "                                      \n",
       "+ 6*\\lambda_o + \\omega_i + 4*\\omega_o)\n",
       "                                      \n",
       "--------------------------------------\n",
       "                                      \n",
       "                                      "
      ]
     },
     "execution_count": 2,
     "metadata": {},
     "output_type": "execute_result"
    }
   ],
   "source": [
    "# Define symbols for orbital elements and constants\n",
    "mu_i, mu_o, a_i, a_o, e_i, e_o, m3, n, G = \\\n",
    "symbols(\"\\mu_i,\\mu_o,a_i,a_o,e_i,e_o,m_3,n,G\", positive=True, real=True)\n",
    "\n",
    "R_sec, R_res, R = \\\n",
    "    symbols(\"\\mathcal{R}_{sec}, \\mathcal{R}_{res}, \\mathcal{R}\", real=True)\n",
    "    \n",
    "lambda_i, lambda_o, w_i, w_o = \\\n",
    "    symbols(\"\\lambda_i, \\lambda_o, \\omega_i, \\omega_o\", real=True)\n",
    "\n",
    "    \n",
    "# Define Hensen coefficients for n=6    \n",
    "X_in = -3*e_i + 13*e_i**3/8\n",
    "X_ou = 533*e_o**4/16 - 13827*e_o**6/160\n",
    "\n",
    "# Resonant part of the disturbing function\n",
    "R_res = Rational(3,4)*G*mu_i*m3/a_o*(a_i/a_o)**2*X_in*X_ou\\\n",
    "*cos(6*lambda_o - lambda_i +4*w_o + w_i)\n",
    "\n",
    "# Secular part of the disturbing function\n",
    "# R_sec = G*mu_i*m3/(4*a_o)*(a_i/a_o)**2*(1 + 3*e_i**2/2)/(1 - e_o**2)**(Rational(3, 2))\n",
    "R_res"
   ]
  },
  {
   "cell_type": "markdown",
   "metadata": {},
   "source": [
    "The resonant part has a leading term of order $e_ie_o^4$, for now, we only keep the leading\n",
    "term."
   ]
  },
  {
   "cell_type": "code",
   "execution_count": 3,
   "metadata": {},
   "outputs": [
    {
     "data": {
      "image/png": "[encoded data removed]",
      "text/latex": [
       "$$- \\frac{4797 G \\mu_i e_{i}}{64 a_{o}^{3}} a_{i}^{2} e_{o}^{4} m_{3} \\cos{\\left (- \\lambda_i + 6 \\lambda_o + \\omega_i + 4 \\omega_o \\right )}$$"
      ],
      "text/plain": [
       "                 2        4                                                   \n",
       "-4797*G*\\mu_i*a_i *e_i*e_o *m_3*cos(-\\lambda_i + 6*\\lambda_o + \\omega_i + 4*\\o\n",
       "------------------------------------------------------------------------------\n",
       "                                             3                                \n",
       "                                       64*a_o                                 \n",
       "\n",
       "        \n",
       "mega_o) \n",
       "--------\n",
       "        \n",
       "        "
      ]
     },
     "execution_count": 3,
     "metadata": {},
     "output_type": "execute_result"
    }
   ],
   "source": [
    "# R_sec = series(R_sec, e_o, 0, 5).removeO()\n",
    "R_res = series(series(R_res, e_o, 0, 5).removeO(), e_i, 0, 2).removeO()\n",
    "\n",
    "R = R_res\n",
    "R"
   ]
  },
  {
   "cell_type": "markdown",
   "metadata": {},
   "source": [
    "# Poincaré variables"
   ]
  },
  {
   "cell_type": "markdown",
   "metadata": {},
   "source": [
    "Poincaré variables for the inner binary are defined as:\n",
    "\n",
    "$$\\lambda_i = \\lambda_i,\\quad \\Lambda_i = \\mu_i \\sqrt{G m_{12} a_i} $$\n",
    "$$\\gamma_i = -\\omega_i,\\quad \\Gamma_i = \\mu_i \\sqrt{G m_{12} a_i} (1-\\sqrt{1-e_i^2})$$\n",
    "\n",
    "Similarly, for the outer binary:\n",
    "\n",
    "$$\\lambda_o = \\lambda_o,\\quad \\Lambda_o = \\mu_o \\sqrt{G m_{123} a_o}$$\n",
    "$$\\gamma_o = -\\omega_o,\\quad \\Gamma_o = \\mu_o \\sqrt{G m_{123} a_o} (1-\\sqrt{1-e_o^2})$$\n",
    "\n",
    "We can solve the above system to obtain the expression for the orbital elements expressed in terms of Poincaré momenta. Since the new coordinates and momenta are functions of both the previous momenta and the coordinates,  it is known from the literature that this transformation is canonical."
   ]
  },
  {
   "cell_type": "code",
   "execution_count": 4,
   "metadata": {},
   "outputs": [
    {
     "data": {
      "image/png": "[encoded data removed]",
      "text/latex": [
       "$$\\left [ \\left ( \\frac{\\Lambda_i^{2}}{G \\mu_i^{2} m_{12}}, \\quad - \\frac{1}{\\Lambda_i} \\sqrt{\\Lambda_i^{2} - \\left(\\Gamma_{i} - \\Lambda_i\\right)^{2}}\\right ), \\quad \\left ( \\frac{\\Lambda_i^{2}}{G \\mu_i^{2} m_{12}}, \\quad \\frac{1}{\\Lambda_i} \\sqrt{\\Lambda_i^{2} - \\left(\\Gamma_{i} - \\Lambda_i\\right)^{2}}\\right )\\right ]$$"
      ],
      "text/plain": [
       "                       _____________________________________                  \n",
       "              2       /          2                        2                  2\n",
       "     \\Lambda_i     -\\/  \\Lambda_i  - (Gamma_i - \\Lambda_i)          \\Lambda_i \n",
       "[(---------------, ------------------------------------------), (-------------\n",
       "         2                         \\Lambda_i                            2     \n",
       "  G*\\mu_i *m_{12}                                                G*\\mu_i *m_{1\n",
       "\n",
       "       _____________________________________  \n",
       "      /          2                        2   \n",
       "    \\/  \\Lambda_i  - (Gamma_i - \\Lambda_i)    \n",
       "--, ----------------------------------------)]\n",
       "                   \\Lambda_i                  \n",
       "2}                                            "
      ]
     },
     "execution_count": 4,
     "metadata": {},
     "output_type": "execute_result"
    }
   ],
   "source": [
    "# Define Poincaré variables\n",
    "Lambda_i, Gamma_i, Lambda_o, Gamma_o, m12, m123 =\\\n",
    "    symbols(\"\\Lambda_i, Gamma_i, \\Lambda_o, Gamma_o, m_{12}, m_{123}\",\n",
    "              real=True, positive=True)  \n",
    "gamma_o, gamma_i = symbols(\"\\gamma_o, \\gamma_i\", real=True)\n",
    "    \n",
    "# Solve for orbital elements in terms of Poincaré variables\n",
    "x = solve([Eq(mu_i*sqrt(G*m12*a_i) - Lambda_i),\n",
    "           Eq(mu_i*sqrt(G*m12*a_i)*(1 - sqrt(1 - e_i**2)) - Gamma_i)],\n",
    "        [a_i, e_i])\n",
    "\n",
    "x"
   ]
  },
  {
   "cell_type": "markdown",
   "metadata": {},
   "source": [
    "The second solution is phyiscally meaningful because $e$ is defined to be positive. \n",
    "Therefore, the orbital elements in terms of Poincare coordinates are given by:\n",
    "\n",
    "$$a_i = \\frac{\\Lambda_i^{2}}{G \\mu_i^{2} m_{12}}\\quad e_i = \\frac{1}{\\Lambda_i} \\sqrt{\\Lambda_i^{2} - \\left(\\Gamma_{i} - \\Lambda_i\\right)^{2}}$$\n",
    "\n",
    "and for the outer part:\n",
    "\n",
    "$$a_o = \\frac{\\Lambda_o^{2}}{G \\mu_o^{2} m_{123}}\\quad e_o = \\frac{1}{\\Lambda_o} \\sqrt{\\Lambda_o^{2} - \\left(\\Gamma_{o} - \\Lambda_o\\right)^{2}}$$\n",
    "\n",
    "we can now write the Disturbing function in Poincaré variables:"
   ]
  },
  {
   "cell_type": "code",
   "execution_count": 5,
   "metadata": {},
   "outputs": [
    {
     "data": {
      "image/png": "[encoded data removed]",
      "text/latex": [
       "$$- \\frac{4797 G^{2} \\Lambda_i^{3} \\mu_o^{6} m_{3} m_{123}^{3}}{64 \\Lambda_o^{10} \\mu_i^{3} m_{12}^{2}} \\sqrt{\\Lambda_i^{2} - \\left(\\Gamma_{i} - \\Lambda_i\\right)^{2}} \\left(\\Lambda_o^{2} - \\left(\\Gamma_{o} - \\Lambda_o\\right)^{2}\\right)^{2} \\cos{\\left (\\gamma_i + 4 \\gamma_o + \\lambda_i - 6 \\lambda_o \\right )}$$"
      ],
      "text/plain": [
       "                                           ___________________________________\n",
       "       2          3      6            3   /          2                        \n",
       "-4797*G *\\Lambda_i *\\mu_o *m_3*m_{123} *\\/  \\Lambda_i  - (Gamma_i - \\Lambda_i)\n",
       "------------------------------------------------------------------------------\n",
       "                                                                              \n",
       "                                                                        64*\\La\n",
       "\n",
       "__                                      2                                     \n",
       "2  /         2                        2\\                                      \n",
       "  *\\\\Lambda_o  - (Gamma_o - \\Lambda_o) / *cos(\\gamma_i + 4*\\gamma_o + \\lambda_\n",
       "------------------------------------------------------------------------------\n",
       "      10      3       2                                                       \n",
       "mbda_o  *\\mu_i *m_{12}                                                        \n",
       "\n",
       "                 \n",
       "                 \n",
       "i - 6*\\lambda_o) \n",
       "-----------------\n",
       "                 \n",
       "                 "
      ]
     },
     "execution_count": 5,
     "metadata": {},
     "output_type": "execute_result"
    }
   ],
   "source": [
    "# Disturbing function in Poincaré coordinates\n",
    "R = R.subs({a_i: Lambda_i**2/(G*mu_i**2*m12),\n",
    "            e_i: sqrt(Lambda_i**2 - (Gamma_i - Lambda_i)**2)/Lambda_i,\n",
    "            a_o: Lambda_o**2/(G*mu_o**2*m123),\n",
    "            e_o: sqrt(Lambda_o**2 - (Gamma_o - Lambda_o)**2)/Lambda_o,\n",
    "            w_i: -gamma_i,\n",
    "            w_o: -gamma_o})\n",
    "R"
   ]
  },
  {
   "cell_type": "markdown",
   "metadata": {},
   "source": [
    "# The complete Hamiltonian "
   ]
  },
  {
   "cell_type": "markdown",
   "metadata": {},
   "source": [
    "## Keplerian terms"
   ]
  },
  {
   "cell_type": "markdown",
   "metadata": {},
   "source": [
    "The complete Hamiltonian of the three body system is given by \n",
    "\n",
    "$$\\mathcal{H}=\\mathcal{H}_{kepler}-\\mathcal{R}$$\n",
    "\n",
    "where $\\mathcal{H}_{kepler}$ is the Keplerian part."
   ]
  },
  {
   "cell_type": "code",
   "execution_count": 6,
   "metadata": {},
   "outputs": [
    {
     "data": {
      "image/png": "[encoded data removed]",
      "text/latex": [
       "$$- \\frac{G^{2} \\mu_o^{3} m_{123}^{2}}{2 \\Lambda_o^{2}} - \\frac{G^{2} \\mu_i^{3} m_{12}^{2}}{2 \\Lambda_i^{2}}$$"
      ],
      "text/plain": [
       "   2      3        2    2      3       2\n",
       "  G *\\mu_o *m_{123}    G *\\mu_i *m_{12} \n",
       "- ------------------ - -----------------\n",
       "                2                    2  \n",
       "     2*\\Lambda_o          2*\\Lambda_i   "
      ]
     },
     "execution_count": 6,
     "metadata": {},
     "output_type": "execute_result"
    }
   ],
   "source": [
    "# Define Keplerian hamiltonian in Poincaré coordinates\n",
    "H = Symbol('\\mathcal{H}', real=True)\n",
    "H_k = Symbol('mathcal{H}_{Kepler}', real=True)\n",
    "H_k = - G**2*m12**2*mu_i**3/(2*Lambda_i**2) - G**2*m123**2*mu_o**3/(2*Lambda_o**2)\n",
    "H_k"
   ]
  },
  {
   "cell_type": "markdown",
   "metadata": {},
   "source": [
    "$$\\mathcal{H}_{Kepler}=- \\frac{G^{2} \\mu_o^{3} m_{123}^{2}}{2 \\Lambda_o^{2}} - \\frac{G^{2} \\mu_i^{3} m_{12}^{2}}{2 \\Lambda_i^{2}}$$"
   ]
  },
  {
   "cell_type": "markdown",
   "metadata": {},
   "source": [
    "Since we're interested in behaviour close to resonance, we can expanded the Keplerian Hamiltonain in a series around a $\\Lambda$ wchich corresponds to exact resonance, we denote this value of $\\Lambda$ as $\\tilde{\\Lambda}$."
   ]
  },
  {
   "cell_type": "code",
   "execution_count": 7,
   "metadata": {},
   "outputs": [
    {
     "data": {
      "image/png": "[encoded data removed]",
      "text/latex": [
       "$$- \\frac{G^{2} \\mu_i^{3} m_{12}^{2}}{2 \\tilde{\\Lambda_i}^{2}} + \\frac{G^{2} \\mu_i^{3}}{\\tilde{\\Lambda_i}^{3}} m_{12}^{2} \\left(\\Lambda_i - \\tilde{\\Lambda_i}\\right) - \\frac{3 G^{2} \\mu_i^{3} m_{12}^{2}}{2 \\tilde{\\Lambda_i}^{4}} \\left(\\Lambda_i - \\tilde{\\Lambda_i}\\right)^{2}$$"
      ],
      "text/plain": [
       "    2      3       2      2      3       2                                    \n",
       "   G *\\mu_i *m_{12}      G *\\mu_i *m_{12} *(\\Lambda_i - \\tilde{\\Lambda_i})   3\n",
       "- -------------------- + ------------------------------------------------- - -\n",
       "                     2                                    3                   \n",
       "  2*\\tilde{\\Lambda_i}                    \\tilde{\\Lambda_i}                    \n",
       "\n",
       "  2      3       2                                2\n",
       "*G *\\mu_i *m_{12} *(\\Lambda_i - \\tilde{\\Lambda_i}) \n",
       "---------------------------------------------------\n",
       "                                  4                \n",
       "               2*\\tilde{\\Lambda_i}                 "
      ]
     },
     "execution_count": 7,
     "metadata": {},
     "output_type": "execute_result"
    }
   ],
   "source": [
    "LLambda_o, LLambda_i  =\\\n",
    "symbols(r\"\\tilde{\\Lambda_o}, \\tilde{\\Lambda_i}\", real=True, positive=True)\n",
    "\n",
    "series(H_k.args[0], Lambda_i, LLambda_i, 3).removeO()"
   ]
  },
  {
   "cell_type": "markdown",
   "metadata": {},
   "source": [
    "We define new momenta $J_1=\\Lambda_i - \\tilde{\\Lambda_i}$ and \n",
    "$J_2=\\Lambda_o - \\tilde{\\Lambda_o}$. The keplerian Hamiltonian is then given by"
   ]
  },
  {
   "cell_type": "markdown",
   "metadata": {},
   "source": [
    "$$\\mathcal{H}_{K}=\\frac{G^2 \\mu_i^3 m_{12}^2}{2\\tilde{\\Lambda_i}^3}J_1 -\\frac{3 G^2 \\mu_i^3 m_{12}^2}{2\\tilde{\\Lambda_i}^4}J_1^2+ \\frac{G^2 \\mu_o^3 m_{123}^2}{2\\tilde{\\Lambda_o}^3}J_2 -\\frac{3 G^2 \\mu_o^3 m_{123}^2}{2\\tilde{\\Lambda_o}^4}J_2^2 + const.$$"
   ]
  },
  {
   "cell_type": "code",
   "execution_count": 8,
   "metadata": {},
   "outputs": [
    {
     "data": {
      "image/png": "[encoded data removed]",
      "text/latex": [
       "$$- \\frac{3 G^{2} J_{1}^{2} \\mu_i^{3}}{2 \\tilde{\\Lambda_i}^{4}} m_{12}^{2} + \\frac{G^{2} J_{1} \\mu_i^{3} m_{12}^{2}}{2 \\tilde{\\Lambda_i}^{3}} - \\frac{3 G^{2} J_{2}^{2} \\mu_o^{3}}{2 \\tilde{\\Lambda_o}^{4}} m_{123}^{2} + \\frac{G^{2} J_{2} \\mu_o^{3} m_{123}^{2}}{2 \\tilde{\\Lambda_o}^{3}}$$"
      ],
      "text/plain": [
       "     2    2      3       2    2          3       2      2    2      3        2\n",
       "  3*G *J_1 *\\mu_i *m_{12}    G *J_1*\\mu_i *m_{12}    3*G *J_2 *\\mu_o *m_{123} \n",
       "- ------------------------ + --------------------- - -------------------------\n",
       "                       4                         3                         4  \n",
       "    2*\\tilde{\\Lambda_i}       2*\\tilde{\\Lambda_i}       2*\\tilde{\\Lambda_o}   \n",
       "\n",
       "    2          3        2\n",
       "   G *J_2*\\mu_o *m_{123} \n",
       " + ----------------------\n",
       "                       3 \n",
       "    2*\\tilde{\\Lambda_o}  "
      ]
     },
     "execution_count": 8,
     "metadata": {},
     "output_type": "execute_result"
    }
   ],
   "source": [
    "J1, J2 = symbols(r\"J_1 J_2\", real=True)\n",
    "\n",
    "ci = G**2*mu_i**3*m12**2\n",
    "co = G**2*mu_o**3*m123**2\n",
    "\n",
    "# Expanded Keplerian Hamiltonian\n",
    "H_kexp = ci*J1/(2*LLambda_i**3) + co*J2/(2*LLambda_o**3) -3*ci*J1**2/(2*LLambda_i**4)\\\n",
    "    -3*co*J2**2/(2*LLambda_o**4)\n",
    "H_kexp"
   ]
  },
  {
   "cell_type": "markdown",
   "metadata": {},
   "source": [
    "## Resonant term"
   ]
  },
  {
   "cell_type": "markdown",
   "metadata": {},
   "source": [
    "We expand the resonant part of the hamiltonian to lowest order in $\\Gamma_i$ and \n",
    "$\\Gamma_o$. The resulting function is proportional to\n",
    "\n",
    "$$\\mathcal{R}\\propto \\sqrt{\\Gamma_i}{\\Gamma_o^2} + \\mathcal{O}(\\Gamma_i, \\Gamma_o^3)$$"
   ]
  },
  {
   "cell_type": "code",
   "execution_count": 9,
   "metadata": {},
   "outputs": [
    {
     "data": {
      "image/png": "[encoded data removed]",
      "text/latex": [
       "$$\\frac{1}{16 \\Lambda_o^{8} \\mu_i^{3} m_{12}^{2}} \\left(4797 \\sqrt{2} G^{2} \\sqrt{\\Gamma_{i}} \\Gamma_{o}^{2} \\Lambda_i^{\\frac{7}{2}} \\mu_o^{6} m_{3} m_{123}^{3} \\cos{\\left (\\gamma_i + 4 \\gamma_o + \\lambda_i - 6 \\lambda_o \\right )} + \\mathcal{O}\\left(\\Gamma_{o}^{3}\\right)\\right)$$"
      ],
      "text/plain": [
       "       ___  2   _________        2          7/2      6            3           \n",
       "4797*\\/ 2 *G *\\/ Gamma_i *Gamma_o *\\Lambda_i   *\\mu_o *m_3*m_{123} *cos(\\gamma\n",
       "------------------------------------------------------------------------------\n",
       "                                                                 8      3     \n",
       "                                                     16*\\Lambda_o *\\mu_i *m_{1\n",
       "\n",
       "                                              /       3\\\n",
       "_i + 4*\\gamma_o + \\lambda_i - 6*\\lambda_o) + O\\Gamma_o /\n",
       "--------------------------------------------------------\n",
       "  2                                                     \n",
       "2}                                                      "
      ]
     },
     "execution_count": 9,
     "metadata": {},
     "output_type": "execute_result"
    }
   ],
   "source": [
    "H_res = -R\n",
    "\n",
    "simplify(series(series(H_res, Gamma_i, 0, 1).removeO(), Gamma_o, 0, 3))"
   ]
  },
  {
   "cell_type": "code",
   "execution_count": 10,
   "metadata": {},
   "outputs": [
    {
     "data": {
      "image/png": "[encoded data removed]",
      "text/latex": [
       "$$\\frac{4797 \\sqrt{2} G^{2} \\sqrt{\\Gamma_{i}} \\Gamma_{o}^{2} \\mu_o^{6} \\tilde{\\Lambda_i}^{\\frac{7}{2}} m_{3}}{16 \\mu_i^{3} \\tilde{\\Lambda_o}^{8} m_{12}^{2}} m_{123}^{3} \\cos{\\left (\\gamma_i + 4 \\gamma_o + \\lambda_i - 6 \\lambda_o \\right )} - \\frac{3 G^{2} J_{1}^{2} \\mu_i^{3}}{2 \\tilde{\\Lambda_i}^{4}} m_{12}^{2} + \\frac{G^{2} J_{1} \\mu_i^{3} m_{12}^{2}}{2 \\tilde{\\Lambda_i}^{3}} - \\frac{3 G^{2} J_{2}^{2} \\mu_o^{3}}{2 \\tilde{\\Lambda_o}^{4}} m_{123}^{2} + \\frac{G^{2} J_{2} \\mu_o^{3} m_{123}^{2}}{2 \\tilde{\\Lambda_o}^{3}}$$"
      ],
      "text/plain": [
       "       ___  2   _________        2      6                  7/2            3   \n",
       "4797*\\/ 2 *G *\\/ Gamma_i *Gamma_o *\\mu_o *\\tilde{\\Lambda_i}   *m_3*m_{123} *co\n",
       "------------------------------------------------------------------------------\n",
       "                                                      3                  8    \n",
       "                                              16*\\mu_i *\\tilde{\\Lambda_o} *m_{\n",
       "\n",
       "                                                        2    2      3       2 \n",
       "s(\\gamma_i + 4*\\gamma_o + \\lambda_i - 6*\\lambda_o)   3*G *J_1 *\\mu_i *m_{12}  \n",
       "-------------------------------------------------- - ------------------------ \n",
       "   2                                                                      4   \n",
       "12}                                                    2*\\tilde{\\Lambda_i}    \n",
       "\n",
       "   2          3       2      2    2      3        2    2          3        2\n",
       "  G *J_1*\\mu_i *m_{12}    3*G *J_2 *\\mu_o *m_{123}    G *J_2*\\mu_o *m_{123} \n",
       "+ --------------------- - ------------------------- + ----------------------\n",
       "                      3                         4                         3 \n",
       "   2*\\tilde{\\Lambda_i}       2*\\tilde{\\Lambda_o}       2*\\tilde{\\Lambda_o}  "
      ]
     },
     "execution_count": 10,
     "metadata": {},
     "output_type": "execute_result"
    }
   ],
   "source": [
    "H_res = series(series(H_res, Gamma_i, 0, 1).removeO(), Gamma_o, 0, 3).removeO()\n",
    "simplify(H_res)\n",
    "H_res = H_res.subs({\n",
    "    Lambda_i: LLambda_i,\n",
    "    Lambda_o: LLambda_o\n",
    "})\n",
    "\n",
    "H = H_res + H_kexp\n",
    "H"
   ]
  },
  {
   "cell_type": "markdown",
   "metadata": {},
   "source": [
    "## Nondimensionalization"
   ]
  },
  {
   "cell_type": "markdown",
   "metadata": {},
   "source": [
    "Now that we have the complete Hamiltonian, it is useful to remove physical units.\n",
    "We proceed by rescaling all masses by a factor $m'$, lengths by factor $a'$.\n",
    "G is factorized out of the definitions of Poincaré and $J_1$ and\n",
    "$J_2$ momenta. \n",
    "\n",
    "$$\\hat{m}_{12}=\\frac{m_{12}}{m'}\\quad \\hat{m}_{123}=\\frac{m_{123}}{m'}\n",
    "\\quad \\hat{a}_{i}=\\frac{a_{i}}{a'}\\quad\\hat{a}_{o}=\\frac{a_{o}}{a'}\\quad$$\n"
   ]
  },
  {
   "cell_type": "code",
   "execution_count": 11,
   "metadata": {},
   "outputs": [
    {
     "data": {
      "image/png": "[encoded data removed]",
      "text/latex": [
       "$$\\frac{4797 \\sqrt{2} G \\sqrt{\\Gamma_{i}} \\Gamma_{o}^{2} \\mu_o^{6} \\tilde{\\Lambda_i}^{\\frac{7}{2}} m'^{2} m_{3} m_{123}^{3}}{16 \\mu_i^{3} \\tilde{\\Lambda_o}^{8} a' m_{12}^{2}} \\cos{\\left (\\gamma_i + 4 \\gamma_o + \\lambda_i - 6 \\lambda_o \\right )} - \\frac{3 G J_{1}^{2} \\mu_i^{3} m'^{2} m_{12}^{2}}{2 \\tilde{\\Lambda_i}^{4} a'} + \\frac{G J_{1} \\mu_i^{3} m'^{2} m_{12}^{2}}{2 \\tilde{\\Lambda_i}^{3} a'} - \\frac{3 G J_{2}^{2} \\mu_o^{3} m'^{2} m_{123}^{2}}{2 \\tilde{\\Lambda_o}^{4} a'} + \\frac{G J_{2} \\mu_o^{3} m'^{2} m_{123}^{2}}{2 \\tilde{\\Lambda_o}^{3} a'}$$"
      ],
      "text/plain": [
       "       ___     _________        2      6                  7/2   2            3\n",
       "4797*\\/ 2 *G*\\/ Gamma_i *Gamma_o *\\mu_o *\\tilde{\\Lambda_i}   *m' *m_3*m_{123} \n",
       "------------------------------------------------------------------------------\n",
       "                                                      3                  8    \n",
       "                                              16*\\mu_i *\\tilde{\\Lambda_o} *a'*\n",
       "\n",
       "                                                               2      3   2   \n",
       "*cos(\\gamma_i + 4*\\gamma_o + \\lambda_i - 6*\\lambda_o)   3*G*J_1 *\\mu_i *m' *m_\n",
       "----------------------------------------------------- - ----------------------\n",
       "      2                                                                      4\n",
       "m_{12}                                                    2*\\tilde{\\Lambda_i} \n",
       "\n",
       "    2              3   2       2          2      3   2        2              3\n",
       "{12}    G*J_1*\\mu_i *m' *m_{12}    3*G*J_2 *\\mu_o *m' *m_{123}    G*J_2*\\mu_o \n",
       "----- + ------------------------ - ---------------------------- + ------------\n",
       "                           3                            4                     \n",
       "*a'     2*\\tilde{\\Lambda_i} *a'      2*\\tilde{\\Lambda_o} *a'       2*\\tilde{\\L\n",
       "\n",
       "   2        2\n",
       "*m' *m_{123} \n",
       "-------------\n",
       "        3    \n",
       "ambda_o} *a' "
      ]
     },
     "execution_count": 11,
     "metadata": {},
     "output_type": "execute_result"
    }
   ],
   "source": [
    "m, a = symbols(\"m' a'\", positive=True)\n",
    "H = H.subs({\n",
    "    J1: m*sqrt(G*a*m)*J1,\n",
    "    J2: m*sqrt(G*a*m)*J2,\n",
    "    Gamma_i: m*sqrt(G*a*m)*Gamma_i,\n",
    "    Gamma_o: m*sqrt(G*a*m)*Gamma_o,\n",
    "    LLambda_i: m*sqrt(G*a*m)*LLambda_i,\n",
    "    LLambda_o: m*sqrt(G*a*m)*LLambda_o,\n",
    "    mu_i: m*mu_i,\n",
    "    mu_o: m*mu_o,\n",
    "    m12: m*m12,\n",
    "    m123: m*m123,\n",
    "    m3: m*m3\n",
    "})\n",
    "H"
   ]
  },
  {
   "cell_type": "markdown",
   "metadata": {},
   "source": [
    "Next, we multiply the Hamiltonian by $a/M^2G$ which makes it dimensionless.We put mass in units of the inner binary\n",
    "mass, length in units of the inner binary semi-major axis at exact resonance, \n",
    "and time in units of the inner\n",
    "binary inverse mean motion.\n",
    "\n",
    "$$m'=m_{12}\\quad a'=\\tilde{a_i}$$\n",
    "\n",
    "therefore, we have $m_{12}$=1, $m_{123}\\approx m_{12}=1$ and $\\mu_o\\approx m_3$."
   ]
  },
  {
   "cell_type": "code",
   "execution_count": 12,
   "metadata": {},
   "outputs": [
    {
     "data": {
      "image/png": "[encoded data removed]",
      "text/latex": [
       "$$\\frac{4797 \\sqrt{2} \\sqrt{\\Gamma_{i}} \\Gamma_{o}^{2} \\tilde{\\Lambda_i}^{\\frac{7}{2}} m_{3}^{7}}{16 \\mu_i^{3} \\tilde{\\Lambda_o}^{8}} \\cos{\\left (\\gamma_i + 4 \\gamma_o + \\lambda_i - 6 \\lambda_o \\right )} - \\frac{3 J_{1}^{2} \\mu_i^{3}}{2 \\tilde{\\Lambda_i}^{4}} + \\frac{J_{1} \\mu_i^{3}}{2 \\tilde{\\Lambda_i}^{3}} - \\frac{3 J_{2}^{2} m_{3}^{3}}{2 \\tilde{\\Lambda_o}^{4}} + \\frac{J_{2} m_{3}^{3}}{2 \\tilde{\\Lambda_o}^{3}}$$"
      ],
      "text/plain": [
       "       ___   _________        2                  7/2    7                     \n",
       "4797*\\/ 2 *\\/ Gamma_i *Gamma_o *\\tilde{\\Lambda_i}   *m_3 *cos(\\gamma_i + 4*\\ga\n",
       "------------------------------------------------------------------------------\n",
       "                                                 3                  8         \n",
       "                                         16*\\mu_i *\\tilde{\\Lambda_o}          \n",
       "\n",
       "                                           2      3                     3     \n",
       "mma_o + \\lambda_i - 6*\\lambda_o)      3*J_1 *\\mu_i             J_1*\\mu_i      \n",
       "-------------------------------- - -------------------- + --------------------\n",
       "                                                      4                      3\n",
       "                                   2*\\tilde{\\Lambda_i}    2*\\tilde{\\Lambda_i} \n",
       "\n",
       "            2    3                     3      \n",
       "       3*J_2 *m_3               J_2*m_3       \n",
       " - -------------------- + --------------------\n",
       "                      4                      3\n",
       "   2*\\tilde{\\Lambda_o}    2*\\tilde{\\Lambda_o} "
      ]
     },
     "execution_count": 12,
     "metadata": {},
     "output_type": "execute_result"
    }
   ],
   "source": [
    "H = H.subs({\n",
    "    mu_o: m3,\n",
    "    m12: 1,\n",
    "    m123: 1,\n",
    "})\n",
    "H = H*a/(G*m**2)\n",
    "simplify(H)"
   ]
  },
  {
   "cell_type": "markdown",
   "metadata": {},
   "source": [
    "The Hamiltonian is now in a dimensionless form, the Poincaré momenta are defined as follows.\n",
    "\n",
    "$$ \\Lambda_i = \\mu_i \\sqrt{a_i} \\quad \\Lambda_o = m_3 \\sqrt{ a_o}$$\n",
    "$$\\Gamma_i = \\mu_i \\sqrt{a_i} (1-\\sqrt{1-e_i^2})\\quad \\Gamma_o = m_3 \\sqrt{ a_o} (1-\\sqrt{1-e_o^2})$$\n",
    "\n",
    "where all the quantities are dimensionless (hats omitted)."
   ]
  },
  {
   "cell_type": "markdown",
   "metadata": {},
   "source": [
    "The final Hamiltonian is then given by:\n",
    "\n",
    "$$\\hat{\\mathcal{H}}= -\\frac{3 J_1^2\\mu_i^3}{2\\widetilde{\\Lambda}_i^4}+\\frac{J_1\\mu_i^3}{2\\widetilde{\\Lambda}_i^3}-\\frac{3 J_2^2 m_3^3}{2\\widetilde{\\Lambda}_o^4}\n",
    "+\\frac{J_2m_3^3}{2\\widetilde{\\Lambda}_o^3} + \n",
    "\\frac{4797\\sqrt{2}}{16}\\frac{m_3^7\\widetilde{\\Lambda}_i^{7/2}} {\\mu_i^3\\widetilde{\\Lambda}_o^{8}}\\sqrt{\\Gamma_i}\\Gamma_o^2\\cos{(\\gamma_i+4\\gamma_o\n",
    "+\\lambda_i-6\\lambda_o)}$$\n",
    "\n",
    "Where the hat denotes the fact that the Hamiltonian is dimensionless."
   ]
  },
  {
   "cell_type": "markdown",
   "metadata": {},
   "source": [
    "# Reduction to a single degree of freedom"
   ]
  },
  {
   "cell_type": "markdown",
   "metadata": {},
   "source": [
    "In order to reduce the above Hamiltonian to a single degree of freedom, we make use of a canonical transformation which uses the harmonic angle as one of the new conjugate positions. The transformation is of the form:\n",
    "\n",
    "$$(\\lambda_i, \\lambda_o,\\gamma_i, \\gamma_o, J_1, J_2, \\Gamma_i, \\Gamma_o)\n",
    "\\rightarrow(\\theta_1, \\theta_2, \\theta_3, \\theta_4, \\Theta_1, \\Theta_2, \\Theta_3, \\Theta_4)$$\n",
    "\n",
    "it is generated by the generating function of the 2nd type defined below."
   ]
  },
  {
   "cell_type": "code",
   "execution_count": 13,
   "metadata": {},
   "outputs": [
    {
     "data": {
      "image/png": "[encoded data removed]",
      "text/latex": [
       "$$\\left \\{ \\Theta_1 : - \\frac{\\Gamma_{o}}{4} + J_{1}, \\quad \\Theta_2 : \\frac{3 \\Gamma_{o}}{2} + J_{2}, \\quad \\Theta_3 : \\Gamma_{i} - \\frac{\\Gamma_{o}}{4}, \\quad \\Theta_4 : \\frac{\\Gamma_{o}}{4}\\right \\}$$"
      ],
      "text/plain": [
       "             Gamma_o                  3*Gamma_o                            Gam\n",
       "{\\Theta_1: - ------- + J_1, \\Theta_2: --------- + J_2, \\Theta_3: Gamma_i - ---\n",
       "                4                         2                                   \n",
       "\n",
       "ma_o            Gamma_o \n",
       "----, \\Theta_4: -------}\n",
       "4                  4    "
      ]
     },
     "execution_count": 13,
     "metadata": {},
     "output_type": "execute_result"
    }
   ],
   "source": [
    "# Define new coordinates and momenta\n",
    "t1, t2, t3, t4, T1, T2, T3, T4 =\\\n",
    "symbols(r\"\\theta_1, \\theta_2, \\theta_3, \\theta_4, \\Theta_1, \\Theta_2, \\Theta_3, \\Theta_4\",\n",
    "        real=True)\n",
    "\n",
    "# Specify F2\n",
    "F2 = (gamma_i + 4*gamma_o + lambda_i - 6*lambda_o)*T4 + lambda_i*T1 + lambda_o*T2\\\n",
    "    + gamma_i*T3\n",
    "\n",
    "H = H.subs({\n",
    "    J1: diff(F2, lambda_i),\n",
    "    J2: diff(F2, lambda_o),\n",
    "    Gamma_i: diff(F2, gamma_i),\n",
    "    Gamma_o: diff(F2, gamma_o),\n",
    "    gamma_i: t4 -(4*gamma_o + lambda_i - 6*lambda_o)\n",
    "})\n",
    "\n",
    "# Solve for new momenta in terms of old momenta\n",
    "sol = solve([\n",
    "    Eq(diff(F2, lambda_i) - J1),\n",
    "    Eq(diff(F2, lambda_o) - J2),\n",
    "    Eq(diff(F2, gamma_i) - Gamma_i),\n",
    "    Eq(diff(F2, gamma_o) - Gamma_o)], [T1, T2, T3 ,T4])\n",
    "sol"
   ]
  },
  {
   "cell_type": "code",
   "execution_count": 14,
   "metadata": {},
   "outputs": [
    {
     "data": {
      "image/png": "[encoded data removed]",
      "text/latex": [
       "$$\\Theta_4^{2} \\left(- \\frac{3 \\mu_i^{3}}{2 \\tilde{\\Lambda_i}^{4}} - \\frac{54 m_{3}^{3}}{\\tilde{\\Lambda_o}^{4}} + \\frac{4797 \\sqrt{2} \\tilde{\\Lambda_i}^{\\frac{7}{2}} m_{3}^{7}}{\\mu_i^{3} \\tilde{\\Lambda_o}^{8}} \\sqrt{\\Theta_3 + \\Theta_4} \\cos{\\left (\\theta_4 \\right )}\\right) + \\Theta_4 \\left(- \\frac{3 \\Theta_1}{\\tilde{\\Lambda_i}^{4}} \\mu_i^{3} + \\frac{18 \\Theta_2}{\\tilde{\\Lambda_o}^{4}} m_{3}^{3} + \\frac{\\mu_i^{3}}{2 \\tilde{\\Lambda_i}^{3}} - \\frac{3 m_{3}^{3}}{\\tilde{\\Lambda_o}^{3}}\\right)$$"
      ],
      "text/plain": [
       "          /               3                    3                ___           \n",
       "        2 |        3*\\mu_i               54*m_3          4797*\\/ 2 *\\tilde{\\La\n",
       "\\Theta_4 *|- -------------------- - ------------------ + ---------------------\n",
       "          |                     4                    4                        \n",
       "          \\  2*\\tilde{\\Lambda_i}    \\tilde{\\Lambda_o}                         \n",
       "\n",
       "       7/2    7   _____________________              \\            /           \n",
       "mbda_i}   *m_3 *\\/ \\Theta_3 + \\Theta_4 *cos(\\theta_4)|            |  3*\\Theta_\n",
       "-----------------------------------------------------| + \\Theta_4*|- ---------\n",
       "        3                  8                         |            |           \n",
       "   \\mu_i *\\tilde{\\Lambda_o}                          /            \\  \\tilde{\\L\n",
       "\n",
       "       3                    3                3                     3      \\\n",
       "1*\\mu_i      18*\\Theta_2*m_3            \\mu_i                 3*m_3       |\n",
       "--------- + ------------------ + -------------------- - ------------------|\n",
       "        4                    4                      3                    3|\n",
       "ambda_i}    \\tilde{\\Lambda_o}    2*\\tilde{\\Lambda_i}    \\tilde{\\Lambda_o} /"
      ]
     },
     "execution_count": 14,
     "metadata": {},
     "output_type": "execute_result"
    }
   ],
   "source": [
    "H = collect(expand(H), T4).args[0] + collect(expand(H), T4).args[1]\n",
    "H"
   ]
  },
  {
   "cell_type": "markdown",
   "metadata": {},
   "source": [
    "The square root next to the cosine term is problematic, we thus use the approximation $\\Theta_1\\ll\\Theta_2$. This approximation relies on the fact that $\\Gamma_o/\\Gamma_i$ is small which is true only if $m_3$ is small compared to $m_1$ and $m_2$ and if $e_o<e_i$. The approximation breaks down when the outer eccentricty surpasses the inner.\n",
    "\n",
    "Substituting $\\Phi\\equiv\\Theta_4$ and $\\phi\\equiv\\theta_4$, expanding \n",
    "$\\sqrt{\\Theta_3 + \\Theta_4}\\approx \\sqrt{\\Theta_3}$, and dividing by the factor \n",
    "\n",
    "$$-\\frac{3\\mu_i^3}{2\\widetilde{\\Lambda}_i^4}-\\frac{54 m_3^3}{\\widetilde{\\Lambda}_o^4}$$\n",
    "\n",
    "we obtain the following Hamiltonian\n",
    "\n",
    "$$\\hat{\\mathcal{H}}= \\left(-\\frac{3\\mu_i^3}{2\\widetilde{\\Lambda}_i^4}-\\frac{54 m_3^3}{\\widetilde{\\Lambda}_o^4}\\right)\\Phi^2\n",
    "+ \\left(\\frac{\\mu_i^3}{2\\widetilde{\\Lambda}_i^3} - \n",
    "\\frac{3m_3^3}{\\widetilde{\\Lambda}_o^3} + \n",
    "\\frac{18\\Theta_2m_3^3}{\\widetilde{\\Lambda}_o^4} - \n",
    "\\frac{3\\Theta_1\\mu_i^3}{\\widetilde{\\Lambda}_i^4}\\right)\\Phi\n",
    "+\\frac{4797\\sqrt{2}}{16}\\frac{m_3^7\\widetilde{\\Lambda}_i^{7/2}} {\\mu_i^3\\widetilde{\\Lambda}_o^{8}}\\sqrt{\\Theta_3}\\Phi^2\\cos{\\phi}$$"
   ]
  },
  {
   "cell_type": "markdown",
   "metadata": {},
   "source": [
    "or simply\n",
    "\n",
    "$$\\hat{\\mathcal{H}}=-\\alpha\\Phi^2  -\\beta\\Phi +\n",
    "\\frac{4797\\sqrt{2}}{16}\\frac{m_3^7\\widetilde{\\Lambda}_i^{7/2}} {\\mu_i^3\\widetilde{\\Lambda}_o^{8}}\\sqrt{\\Theta_3}\\Phi^2\\cos{\\phi}$$\n",
    "\n",
    "where\n",
    "\n",
    "$$\\alpha=\\frac{3\\mu_i^3}{2\\widetilde{\\Lambda}_i^4} +\n",
    "\\frac{54m_3^3}{\\widetilde{\\Lambda}_o^4}$$\n",
    "\n",
    "and\n",
    "\n",
    "$$\\beta \\approx -\\frac{\\mu_i^3}{2\\widetilde{\\Lambda}_i^3} +\n",
    "\\frac{3m_3^3}{\\widetilde{\\Lambda}_o^3} $$\n",
    "\n",
    "\n",
    "By using the canonical transformation $\\Phi\\rightarrow \\Phi/4$\n",
    "and $\\phi\\rightarrow 4\\phi$, and dividing by $-\\alpha/16$  we obtain\n",
    "\n",
    "\n",
    "$$\\hat{\\mathcal{H}}' = \\Phi^2 + \\delta\\Phi - \\epsilon\\Phi^2\\cos{4\\phi}$$\n",
    "\n",
    "where \n",
    "\n",
    "$$\\delta=\\frac{4\\beta}{\\alpha},\\quad\n",
    "\\epsilon=\\frac{4797\\sqrt{2}}{16}\\frac{m_3^7\\widetilde{\\Lambda}_i^{7/2}} {\\alpha\\mu_i^3\\widetilde{\\Lambda}_o^{8}}\\sqrt{\\Theta_3}$$"
   ]
  },
  {
   "cell_type": "markdown",
   "metadata": {},
   "source": [
    "# Analysis of bifurcation points"
   ]
  },
  {
   "cell_type": "markdown",
   "metadata": {},
   "source": [
    "The final canonical transformation is to polar coordinates of the form\n",
    "\n",
    "$$x=\\sqrt{2\\Phi}\\cos{\\phi}\\quad y=\\sqrt{2\\Phi}\\sin{\\phi}$$\n",
    "\n",
    "It follows that \n",
    "\n",
    "$$\\Phi =\\frac{x^2 +y^2}{2}$$\n",
    "\n",
    "and\n",
    "\n",
    "$$\\cos{4\\phi}=8\\cos^4{\\phi}-8\\cos^2{\\phi}+1$$ \n",
    "\n",
    "where $\\cos{\\phi}=x/\\sqrt{x^2+y^2}$."
   ]
  },
  {
   "cell_type": "code",
   "execution_count": 15,
   "metadata": {},
   "outputs": [
    {
     "data": {
      "image/png": "[encoded data removed]",
      "text/latex": [
       "$$8 \\cos^{4}{\\left (\\theta_1 \\right )} - 8 \\cos^{2}{\\left (\\theta_1 \\right )} + 1$$"
      ],
      "text/plain": [
       "     4                  2              \n",
       "8*cos (\\theta_1) - 8*cos (\\theta_1) + 1"
      ]
     },
     "execution_count": 15,
     "metadata": {},
     "output_type": "execute_result"
    }
   ],
   "source": [
    "expand_trig(cos(4*t1))"
   ]
  },
  {
   "cell_type": "markdown",
   "metadata": {},
   "source": [
    "We can gain insight into the structure of the phase space by looking at the fixed points of the Hamiltonian. The fixed points can be found by solving the following system of equations.\n",
    "\n",
    "$$\\dot{\\phi}=\\frac{\\partial{\\mathcal{H}}}{\\partial \\Phi}=0$$\n",
    "\n",
    "$$\\dot{\\Phi}=\\frac{\\partial{\\mathcal{H}}}{\\partial \\phi}=0$$\n",
    "\n",
    "differentiating the Hamiltonian results in the following system\n",
    "\n",
    "$$2\\Phi + \\delta + 2\\epsilon\\cos(4\\phi)=0$$\n",
    "\n",
    "$$\\epsilon\\Phi^2\\sin(4\\phi)=0$$"
   ]
  },
  {
   "cell_type": "code",
   "execution_count": 16,
   "metadata": {},
   "outputs": [
    {
     "data": {
      "image/png": "[encoded data removed]",
      "text/latex": [
       "$$- \\Phi^{2} \\epsilon \\cos{\\left (4 \\phi \\right )} + \\Phi^{2} + \\Phi \\delta$$"
      ],
      "text/plain": [
       "     2                          2             \n",
       "- Phi *\\epsilon*cos(4*phi) + Phi  + Phi*\\delta"
      ]
     },
     "execution_count": 16,
     "metadata": {},
     "output_type": "execute_result"
    }
   ],
   "source": [
    "Phi, phi, delta, eps = symbols(r\"Phi, phi, \\delta, \\epsilon\", real=True)\n",
    "\n",
    "H_prim = -Phi**2*eps*cos(4*phi) + Phi**2 + delta*Phi\n",
    "H_prim"
   ]
  },
  {
   "cell_type": "markdown",
   "metadata": {},
   "source": [
    "The 2nd equation is satisfied if $4\\phi=k\\pi$ where $k$ is an interger. It follows that the critical points are located at \n",
    "\n",
    "$$\\Phi_{fix}=\\frac{-\\delta}{2(1 - \\epsilon\\cos4\\phi_{fix})}$$\n",
    "\n",
    "where\n",
    "\n",
    "$$\\phi_{fix}=\\left\\{0,\\frac{\\pi}{4}, \\frac{\\pi}{2}, \\frac{3\\pi}{4},\n",
    "\\pi, \\frac{5\\pi}{4}, \\frac{3\\pi}{2}, \\frac{7\\pi}{4}\\right\\}$$"
   ]
  },
  {
   "cell_type": "markdown",
   "metadata": {},
   "source": [
    "Next, we introduce a canonical transformation to polar coordinates\n",
    "\n",
    "$$x=\\sqrt{2\\Phi}\\cos{\\phi}\\quad y=\\sqrt{2\\Phi}\\sin{\\phi}$$"
   ]
  },
  {
   "cell_type": "markdown",
   "metadata": {},
   "source": [
    "We see that there are 8 distinct fixed points, with $x\\propto\\pm \\sqrt{-\\delta}$ \n",
    "(same for $y$). It's useful to plot the plot the bifurcation diagram, showing the position of these points on say the x axis as a function of $\\delta$."
   ]
  },
  {
   "cell_type": "code",
   "execution_count": 17,
   "metadata": {},
   "outputs": [
    {
     "name": "stderr",
     "output_type": "stream",
     "text": [
      "/home/fran/anaconda3/lib/python3.5/site-packages/ipykernel/__main__.py:9: RuntimeWarning: invalid value encountered in sqrt\n"
     ]
    },
    {
     "data": {
      "text/plain": [
       "<matplotlib.text.Text at 0x2ae63846c550>"
      ]
     },
     "execution_count": 17,
     "metadata": {},
     "output_type": "execute_result"
    },
    {
     "data": {
      "image/png": "[encoded data removed]",
      "text/plain": [
       "<matplotlib.figure.Figure at 0x2ae6383a9dd8>"
      ]
     },
     "metadata": {
      "image/png": {
       "height": 382,
       "width": 398
      }
     },
     "output_type": "display_data"
    }
   ],
   "source": [
    "eps_ = .4 # some random value\n",
    "delta_ = np.linspace(-10, 10, 10000)\n",
    "\n",
    "phi_ = np.pi*np.arange(0, 8)/4\n",
    "\n",
    "fig, ax = plt.subplots(figsize=(6,6))\n",
    "\n",
    "for i, val in enumerate(phi_):\n",
    "    ax.plot(delta_, np.sqrt(-delta_/(1 - eps_*np.cos(val))), color='black')\n",
    "\n",
    "ax.set_xlim((-10,1))\n",
    "# ax.set_ylim(0, 2.4)\n",
    "ax.grid(True)\n",
    "ax.set_xlabel(r'$\\delta$')\n",
    "ax.set_ylabel(r'$x$')"
   ]
  },
  {
   "cell_type": "markdown",
   "metadata": {},
   "source": [
    "### Stability of the fixed points\n",
    "\n",
    "\n",
    "In order to characterise the fixed points of a two dimensional system of first order\n",
    "differential equations, we look at the linearized system near the fixed points.\n",
    "Suppose that $\\dot{x}_i=f_i(x)$ and $x=a$ is a fixed point, so $f(a)=0$. We can then taylor expand $f$ as follows\n",
    "\n",
    "$$\\dot{x}_i=f_i(a)+\\frac{\\partial f_i}{\\partial x_j}(a)\\xi_j + \\mathcal{O}(\\xi^2)$$\n",
    "\n",
    "where $\\xi=x-a$. It follows that\n",
    "\n",
    "$$\\dot{\\xi}=A\\xi$$\n",
    "\n",
    "is the linearized system evaluated at the fixed point $a$. A is called the Jacobian matrix. \n",
    "\n",
    "For Hamiltonian systems with a single degree of freedom we can only have three types\n",
    "of fixed points because\n",
    "of conservation of phase space volume (Liouville's theorem). They are\n",
    "\\emph{hyperbolic} (saddle points), \\emph{elliptic} (centre point) and \n",
    "\\emph{parabolic} (shear point) (see http://www.augustana.ab.ca/~hackw/mat332/exhibit/fxdpt2d.html).\n",
    "\n",
    "Therefore, we calculate the Jacobian matrix for Hamilton's equation, that is, the Hessian\n",
    "matrix for the Hamiltonian itself and evaluate it at the fixed points."
   ]
  },
  {
   "cell_type": "code",
   "execution_count": 18,
   "metadata": {},
   "outputs": [],
   "source": [
    "M11 = diff(diff(H_prim, Phi), Phi)\n",
    "M12 = diff(diff(H_prim, Phi), phi)\n",
    "M21 = diff(diff(H_prim, phi), Phi)\n",
    "M22 = diff(diff(H_prim, phi), phi)\n",
    "lambda_ = symbols(r\"\\lambda\")\n",
    "eigenvalues = solve((M11 - lambda_)*(M22 - lambda_) - M12*M21, lambda_)\n",
    "eigen_1 = eigenvalues[0]\n",
    "eigen_2 = eigenvalues[1]"
   ]
  },
  {
   "cell_type": "code",
   "execution_count": 19,
   "metadata": {},
   "outputs": [
    {
     "data": {
      "image/png": "[encoded data removed]",
      "text/latex": [
       "$$8 \\Phi^{2} \\epsilon \\cos{\\left (4 \\phi \\right )} - \\epsilon \\cos{\\left (4 \\phi \\right )} - \\sqrt{64 \\Phi^{4} \\epsilon^{2} \\cos^{2}{\\left (4 \\phi \\right )} + 64 \\Phi^{2} \\epsilon^{2} \\sin^{2}{\\left (4 \\phi \\right )} + 16 \\Phi^{2} \\epsilon^{2} \\cos^{2}{\\left (4 \\phi \\right )} - 16 \\Phi^{2} \\epsilon \\cos{\\left (4 \\phi \\right )} + \\epsilon^{2} \\cos^{2}{\\left (4 \\phi \\right )} - 2 \\epsilon \\cos{\\left (4 \\phi \\right )} + 1} + 1$$"
      ],
      "text/plain": [
       "                                                      ________________________\n",
       "     2                                               /       4         2    2 \n",
       "8*Phi *\\epsilon*cos(4*phi) - \\epsilon*cos(4*phi) - \\/  64*Phi *\\epsilon *cos (\n",
       "\n",
       "______________________________________________________________________________\n",
       "               2         2    2                2         2    2               \n",
       "4*phi) + 64*Phi *\\epsilon *sin (4*phi) + 16*Phi *\\epsilon *cos (4*phi) - 16*Ph\n",
       "\n",
       "___________________________________________________________________________   \n",
       " 2                               2    2                                       \n",
       "i *\\epsilon*cos(4*phi) + \\epsilon *cos (4*phi) - 2*\\epsilon*cos(4*phi) + 1  + \n",
       "\n",
       " \n",
       " \n",
       "1"
      ]
     },
     "execution_count": 19,
     "metadata": {},
     "output_type": "execute_result"
    }
   ],
   "source": [
    "eigen_1"
   ]
  },
  {
   "cell_type": "code",
   "execution_count": 21,
   "metadata": {
    "scrolled": false
   },
   "outputs": [
    {
     "name": "stdout",
     "output_type": "stream",
     "text": [
      "1.02030405060708 200.000000000000\n",
      "-1.02030405060708 3.00000000000000\n",
      "1.02030405060708 200.000000000000\n",
      "-1.02030405060708 3.00000000000000\n",
      "1.02030405060708 200.000000000000\n",
      "-1.02030405060708 3.00000000000000\n",
      "1.02030405060708 200.000000000000\n",
      "-1.02030405060708 3.00000000000000\n"
     ]
    }
   ],
   "source": [
    "d = -5\n",
    "epsilon = .1\n",
    "\n",
    "for i, a in enumerate(phi_):\n",
    "    eigen1 = eigen_1.subs({eps: e,\n",
    "                        phi:phi_[i],\n",
    "                        Phi: -d/(2 - 2*eps*np.cos(4*0))}).evalf()\n",
    "    eigen2 = eigen_2.subs({eps: .5,\n",
    "                        phi:phi_[i],\n",
    "                        Phi: -d/(2 - 2*eps*np.cos(4*0))}).evalf()\n",
    "    print(eigen1, eigen2)"
   ]
  },
  {
   "cell_type": "code",
   "execution_count": null,
   "metadata": {
    "collapsed": true
   },
   "outputs": [],
   "source": []
  }
 ],
 "metadata": {
  "kernelspec": {
   "display_name": "Python [default]",
   "language": "python",
   "name": "python3"
  },
  "language_info": {
   "codemirror_mode": {
    "name": "ipython",
    "version": 3
   },
   "file_extension": ".py",
   "mimetype": "text/x-python",
   "name": "python",
   "nbconvert_exporter": "python",
   "pygments_lexer": "ipython3",
   "version": "3.5.3"
  }
 },
 "nbformat": 4,
 "nbformat_minor": 2
}
