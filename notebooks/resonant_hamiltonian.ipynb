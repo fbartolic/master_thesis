{
 "cells": [
  {
   "cell_type": "code",
   "execution_count": 1,
   "metadata": {},
   "outputs": [
    {
     "data": {
      "text/html": [
       "<style>.container { width:65% !important; }</style>"
      ],
      "text/plain": [
       "<IPython.core.display.HTML object>"
      ]
     },
     "metadata": {},
     "output_type": "display_data"
    },
    {
     "data": {
      "text/html": [
       "<style>.container { width:65% !important; }</style>"
      ],
      "text/plain": [
       "<IPython.core.display.HTML object>"
      ]
     },
     "metadata": {},
     "output_type": "display_data"
    }
   ],
   "source": [
    "import numpy as np\n",
    "from matplotlib import pyplot as plt\n",
    "import matplotlib as mpl\n",
    "from sympy import *\n",
    "\n",
    "mpl.rcParams['axes.labelsize'] = 18\n",
    "mpl.rcParams['xtick.labelsize'] = 12\n",
    "mpl.rcParams['ytick.labelsize'] = 12\n",
    "mpl.rcParams['axes.titlesize'] = 20\n",
    "\n",
    "%matplotlib inline\n",
    "\n",
    "# Better looking figures\n",
    "%config InlineBackend.figure_format = 'retina'\n",
    "\n",
    "# Make cells narrower for better typography\n",
    "from IPython.core.display import display, HTML\n",
    "display(HTML(\"<style>.container { width:65% !important; }</style>\"))\n",
    "\n",
    "init_printing(use_unicode=False, wrap_line=True)\n",
    "\n",
    "# Make cells narrower for better typography\n",
    "from IPython.core.display import display, HTML\n",
    "display(HTML(\"<style>.container { width:65% !important; }</style>\"))"
   ]
  },
  {
   "cell_type": "markdown",
   "metadata": {},
   "source": [
    "# The Disturbing Function"
   ]
  },
  {
   "cell_type": "markdown",
   "metadata": {},
   "source": [
    "We use the expansion developed in Mardling(2013), RM2013 for short. RM2013 develops two different expansions of the pertrubing part of the three body hamiltonian. The first expansion is in terms of spherical harmonics and is in principle exact in eccentricities and approximate in the ratio of semi-major axes. The second \"principal\" expansion is exact in the ratio of semi-major axes $\\alpha=a_i/a_o$ and approximate in eccentricities, we use the first expansion here. The first expension has terms involving Hansen coefficients which are functions of the eccentricities and can in principle be calculated exactly.\n",
    "\n",
    "The disturbing function has two parts, the secular part $\\mathcal{R}_{sec}$ which doesn't depend on the fast varying longitudes and the resonant part $\\mathcal{R}_{res}$. In our case, we expand the secular part up to quadropole order, in this case there exists a closed-form expression for the Hansen coefficients and the secular part is exact in the eccentricities.\n",
    "\n",
    "For the resonant part, we use only the dominant resonant (again quadropole) term in case of the $n:1$ resonance. It is the term with $m=2$ in the RM2013 expansion. In this case however, there are no closed-form expressions for the Hansen coefficients and we can either calculate them numerically, or use a good enuogh series approximation, we opt for the latter. We can then write down the expression for the whole disturbing function.\n",
    "\n",
    "The secular part of the distrubing function to quadropole order is\n",
    "\n",
    "$$\\mathcal{R}_{sec} = \\frac{G \\mu_i a_{i}^{2} m_{3} \\left(\\frac{3 e_{i}^{2}}{2} + 1\\right)}{4 a_{o}^{3} \\left(- e_{o}^{2} + 1\\right)^{\\frac{3}{2}}}\\cos(\\lambda_i - n\\lambda_o+\\omega_i-(2-n)\\omega_o)$$\n",
    "\n",
    "The resonant part of the disturbing function for $m=2$ and $l=2$ is given by\n",
    "\n",
    "$$\\mathcal{R}_{res} = \\frac{3}{4}\\frac{G\\mu_im_3}{a_o}\\left(\\frac{a_i}{a_o}\\right)^2X^{2,2}_1(e_i)\\,X^{-3,2}_{n'}(e_o)$$\n",
    "\n",
    "Where $X^{2,2}_1(e_i)$ and $X^{-3,2}_{n'}(e_o)$ are Hansen coefficients which can be calculated as a series expansion in eccentricity to arbitrary order."
   ]
  },
  {
   "cell_type": "markdown",
   "metadata": {},
   "source": [
    "## Calculation of the Hansen coefficients"
   ]
  },
  {
   "cell_type": "markdown",
   "metadata": {},
   "source": [
    "This is implemented in Mathematica because for some reason it runs forever in Sympy. Unfortunately, at this point we have to specify the order of the resonance because it's not easy to calculate the Hansen coefficients for arbitrary $n$. For now, we choose $n=6$, the resulting coefficients are:\n",
    "\n",
    "$$X^{2,2}_1(e_i) = -3e_i+\\frac{13}{8}e_i^3+\\frac{5}{192}e_i^5$$\n",
    "\n",
    "$$X^{-3,2}_6(e_o)=\\frac{533}{16}e_o^4-\\frac{13827}{160}e_o^6+\\frac{104127}{1280}e_o^8$$\n"
   ]
  },
  {
   "cell_type": "code",
   "execution_count": 2,
   "metadata": {},
   "outputs": [
    {
     "data": {
      "image/png": "[encoded data removed]",
      "text/latex": [
       "$$- \\frac{13827 e_{o}^{6}}{160} + \\frac{533 e_{o}^{4}}{16}$$"
      ],
      "text/plain": [
       "           6          4\n",
       "  13827*e_o    533*e_o \n",
       "- ---------- + --------\n",
       "     160          16   "
      ]
     },
     "execution_count": 2,
     "metadata": {},
     "output_type": "execute_result"
    }
   ],
   "source": [
    "# Define symbols for orbital elements and constants\n",
    "mu_i, mu_o, a_i, a_o, e_i, e_o, m3, n, G = \\\n",
    "symbols(\"\\mu_i,\\mu_o,a_i,a_o,e_i,e_o,m_3,n,G\", positive=True, real=True)\n",
    "R_sec, R_res, R = symbols(\"\\mathcal{R}_{sec}, \\mathcal{R}_{res}, \\mathcal{R}\", real=True)\n",
    "lambda_i, lambda_o, w_i, w_o = symbols(\"\\lambda_i, \\lambda_o, \\omega_i, \\omega_o\", real=True)\n",
    "\n",
    "X_in = -3*e_i + 13*e_i**3/8\n",
    "X_ou = 533*e_o**4/16 - 13827*e_o**6/160\n",
    "X_ou"
   ]
  },
  {
   "cell_type": "code",
   "execution_count": 3,
   "metadata": {
    "collapsed": true
   },
   "outputs": [],
   "source": [
    "# Resonant part of the disturbing function\n",
    "R_res = Rational(3,4)*G*mu_i/a_o*(a_i/a_o)**2*X_in*X_ou\\\n",
    "*cos(6*lambda_o - lambda_i +4*w_o + w_i)\n",
    "\n",
    "# Secular part of the disturbing function\n",
    "R_sec = G*mu_i*m3/(4*a_o)*(a_i/a_o)**2*(1 + 3*e_i**2/2)/(1 - e_o**2)**(Rational(3, 2))"
   ]
  },
  {
   "cell_type": "markdown",
   "metadata": {},
   "source": [
    "The resonant part has a leading term of order $e_o^4$, for now, we only keep that term and we expand the secular part to the same order."
   ]
  },
  {
   "cell_type": "code",
   "execution_count": 4,
   "metadata": {
    "collapsed": true
   },
   "outputs": [],
   "source": [
    "R_sec = series(R_sec, e_o, 0, 5).removeO()\n",
    "R_res = series(R_res, e_o, 0, 5).removeO()\n",
    "\n",
    "R = R_res"
   ]
  },
  {
   "cell_type": "markdown",
   "metadata": {},
   "source": [
    "# Introduce Poincaré variables"
   ]
  },
  {
   "cell_type": "markdown",
   "metadata": {},
   "source": [
    "Poincaré variables for the inner binary are defined as:\n",
    "\n",
    "$$\\lambda_i = \\lambda_i,\\quad \\Lambda_i = \\mu_i \\sqrt{G m_{12} a_i} $$\n",
    "$$\\gamma_i = -\\omega_i,\\quad \\Gamma_i = \\mu_i \\sqrt{G m_{12} a_i} (1-\\sqrt{1-e_i^2})$$\n",
    "$$z_i=0,\\quad Z_i = \\mu_i \\sqrt{G m_{12} a_i(1-e_i^2)}$$\n",
    "\n",
    "Similarly, for the outer binary:\n",
    "\n",
    "$$\\lambda_o = \\lambda_o,\\quad \\Lambda_o = \\mu_o \\sqrt{G m_{123} a_o}$$\n",
    "$$\\gamma_o = -\\omega_o,\\quad \\Gamma_o = \\mu_o \\sqrt{G m_{123} a_o} (1-\\sqrt{1-e_o^2})$$\n",
    "$$z_o=0,\\quad Z_i = \\mu_o \\sqrt{G m_{123} a_o(1-e_o^2)}$$\n",
    "\n",
    "We can solve the above system to obtain the expression for the orbital elements expressed in terms of Poincaré momenta. Since the new coordinates and momenta are functions of both the previous momenta and the coordinates, it is not guaranteed that the transformation is canonical, however, it is known from the literature that this transformation is canonical."
   ]
  },
  {
   "cell_type": "code",
   "execution_count": 5,
   "metadata": {},
   "outputs": [
    {
     "data": {
      "image/png": "[encoded data removed]",
      "text/latex": [
       "$$\\left ( \\frac{\\Lambda_i^{2}}{G \\mu_i^{2} m_{12}}, \\quad \\frac{1}{\\Lambda_i} \\sqrt{\\Lambda_i^{2} - \\left(\\Gamma_{i} - \\Lambda_i\\right)^{2}}\\right )$$"
      ],
      "text/plain": [
       "                     _____________________________________ \n",
       "             2      /          2                        2  \n",
       "    \\Lambda_i     \\/  \\Lambda_i  - (Gamma_i - \\Lambda_i)   \n",
       "(---------------, ----------------------------------------)\n",
       "        2                        \\Lambda_i                 \n",
       " G*\\mu_i *m_{12}                                           "
      ]
     },
     "execution_count": 5,
     "metadata": {},
     "output_type": "execute_result"
    }
   ],
   "source": [
    "# Define Poincaré variables\n",
    "Lambda_i, Gamma_i, Z_i, Lambda_o, Gamma_o, Z_o, m12, m123\\\n",
    "    = symbols(\"\\Lambda_i, Gamma_i, Z_i, \\Lambda_o, Gamma_o, Z_o, m_{12}, m_{123}\",\n",
    "              real=True, positive=True)  \n",
    "gamma_o, gamma_i = symbols(\"\\gamma_o, \\gamma_i\", real=True)\n",
    "    \n",
    "# Solve for orbital elements in terms of Poincaré variables\n",
    "x = solve([Eq(mu_i*sqrt(G*m12*a_i) - Lambda_i),\n",
    "             Eq(mu_i*sqrt(G*m12*a_i)*(1 - sqrt(1 - e_i**2)) - Gamma_i)], [a_i, e_i])\n",
    "\n",
    "# the first sol. has neg. ecc.\n",
    "x[1] "
   ]
  },
  {
   "cell_type": "markdown",
   "metadata": {},
   "source": [
    "Therefore, we, the orbital elements in terms of Poincare coordinates are given by:\n",
    "\n",
    "$$a_i = \\frac{\\Lambda_i^{2}}{G \\mu_i^{2} m_{12}}$$\n",
    "\n",
    "$$e_i = \\frac{1}{\\Lambda_i} \\sqrt{\\Lambda_i^{2} - \\left(\\Gamma_{i} - \\Lambda_i\\right)^{2}}$$\n",
    "\n",
    "and for the outer part:\n",
    "\n",
    "$$a_o = \\frac{\\Lambda_o^{2}}{G \\mu_o^{2} m_{123}}$$\n",
    "\n",
    "$$e_o = \\frac{1}{\\Lambda_o} \\sqrt{\\Lambda_o^{2} - \\left(\\Gamma_{o} - \\Lambda_o\\right)^{2}}$$\n",
    "\n",
    "we can now write the Disturbing function in Poincaré variables:"
   ]
  },
  {
   "cell_type": "code",
   "execution_count": 6,
   "metadata": {},
   "outputs": [
    {
     "data": {
      "image/png": "[encoded data removed]",
      "text/latex": [
       "$$\\frac{1}{\\Lambda_o^{4}} \\left(\\Lambda_o^{2} - \\left(\\Gamma_{o} - \\Lambda_o\\right)^{2}\\right)^{2} \\left(- \\frac{4797 G^{2} \\Lambda_i^{3} \\mu_o^{6} m_{123}^{3}}{64 \\Lambda_o^{6} \\mu_i^{3} m_{12}^{2}} \\sqrt{\\Lambda_i^{2} - \\left(\\Gamma_{i} - \\Lambda_i\\right)^{2}} \\cos{\\left (\\gamma_i + 4 \\gamma_o + \\lambda_i - 6 \\lambda_o \\right )} + \\frac{20787 G^{2} \\Lambda_i \\mu_o^{6} m_{123}^{3}}{512 \\Lambda_o^{6} \\mu_i^{3} m_{12}^{2}} \\left(\\Lambda_i^{2} - \\left(\\Gamma_{i} - \\Lambda_i\\right)^{2}\\right)^{\\frac{3}{2}} \\cos{\\left (\\gamma_i + 4 \\gamma_o + \\lambda_i - 6 \\lambda_o \\right )}\\right)$$"
      ],
      "text/plain": [
       "                                       /                                      \n",
       "                                     2 |        2          3      6        3  \n",
       "/         2                        2\\  |  4797*G *\\Lambda_i *\\mu_o *m_{123} *\\\n",
       "\\\\Lambda_o  - (Gamma_o - \\Lambda_o) / *|- ------------------------------------\n",
       "                                       |                                      \n",
       "                                       \\                                      \n",
       "------------------------------------------------------------------------------\n",
       "                                                                              \n",
       "                                                                              \n",
       "\n",
       "  _____________________________________                                       \n",
       " /          2                        2                                        \n",
       "/  \\Lambda_i  - (Gamma_i - \\Lambda_i)  *cos(\\gamma_i + 4*\\gamma_o + \\lambda_i \n",
       "------------------------------------------------------------------------------\n",
       "                          6      3       2                                    \n",
       "              64*\\Lambda_o *\\mu_i *m_{12}                                     \n",
       "------------------------------------------------------------------------------\n",
       "                                                                             4\n",
       "                                                                    \\Lambda_o \n",
       "\n",
       "                                                                              \n",
       "                        2                6        3 /         2               \n",
       "- 6*\\lambda_o)   20787*G *\\Lambda_i*\\mu_o *m_{123} *\\\\Lambda_i  - (Gamma_i - \\\n",
       "-------------- + -------------------------------------------------------------\n",
       "                                                                              \n",
       "                                                                  512*\\Lambda_\n",
       "------------------------------------------------------------------------------\n",
       "                                                                              \n",
       "                                                                              \n",
       "\n",
       "           3/2                                                     \\\n",
       "         2\\                                                        |\n",
       "Lambda_i) /   *cos(\\gamma_i + 4*\\gamma_o + \\lambda_i - 6*\\lambda_o)|\n",
       "-------------------------------------------------------------------|\n",
       " 6      3       2                                                  |\n",
       "o *\\mu_i *m_{12}                                                   /\n",
       "--------------------------------------------------------------------\n",
       "                                                                    \n",
       "                                                                    "
      ]
     },
     "execution_count": 6,
     "metadata": {},
     "output_type": "execute_result"
    }
   ],
   "source": [
    "# Disturbing function in Poincaré coordinates\n",
    "R = R.subs({a_i: Lambda_i**2/(G*mu_i**2*m12),\n",
    "            e_i: sqrt(Lambda_i**2 - (Gamma_i - Lambda_i)**2)/Lambda_i,\n",
    "            a_o: Lambda_o**2/(G*mu_o**2*m123),\n",
    "            e_o: sqrt(Lambda_o**2 - (Gamma_o - Lambda_o)**2)/Lambda_o,\n",
    "            w_i: -gamma_i,\n",
    "            w_o: -gamma_o})\n",
    "R"
   ]
  },
  {
   "cell_type": "markdown",
   "metadata": {},
   "source": [
    "# The complete Hamiltonian in Poincaré coordinates"
   ]
  },
  {
   "cell_type": "markdown",
   "metadata": {},
   "source": [
    "### The Keplerian part"
   ]
  },
  {
   "cell_type": "markdown",
   "metadata": {},
   "source": [
    "The complete Hamiltonian of the three body system is given by \n",
    "\n",
    "$$\\mathcal{H}=\\mathcal{H}_{kepler}-\\mathcal{R}$$\n",
    "\n",
    "where $\\mathcal{H}_{kepler}$ is the Keplerian part."
   ]
  },
  {
   "cell_type": "code",
   "execution_count": 7,
   "metadata": {},
   "outputs": [
    {
     "data": {
      "image/png": "[encoded data removed]",
      "text/latex": [
       "$$- \\frac{G^{2} \\mu_o^{3} m_{123}^{2}}{2 \\Lambda_o^{2}} - \\frac{G^{2} \\mu_i^{3} m_{12}^{2}}{2 \\Lambda_i^{2}}$$"
      ],
      "text/plain": [
       "   2      3        2    2      3       2\n",
       "  G *\\mu_o *m_{123}    G *\\mu_i *m_{12} \n",
       "- ------------------ - -----------------\n",
       "                2                    2  \n",
       "     2*\\Lambda_o          2*\\Lambda_i   "
      ]
     },
     "execution_count": 7,
     "metadata": {},
     "output_type": "execute_result"
    }
   ],
   "source": [
    "H = Symbol('\\mathcal{H}', real=True)\n",
    "H_k = Symbol('mathcal{H}_{Kepler}', real=True)\n",
    "H_k = - G**2*m12**2*mu_i**3/(2*Lambda_i**2) - G**2*m123**2*mu_o**3/(2*Lambda_o**2)\n",
    "H_k"
   ]
  },
  {
   "cell_type": "markdown",
   "metadata": {},
   "source": [
    "$$\\mathcal{H}_{Kepler}=- \\frac{G^{2} \\mu_o^{3} m_{123}^{2}}{2 \\Lambda_o^{2}} - \\frac{G^{2} \\mu_i^{3} m_{12}^{2}}{2 \\Lambda_i^{2}}$$"
   ]
  },
  {
   "cell_type": "markdown",
   "metadata": {},
   "source": [
    "Since we're interested in behaviour close to resonance, we can expanded the Keplerian Hamiltonain in a series around a $\\Lambda$ wchich corresponds to exact resonance, we denote this value of $\\Lambda$ as $[\\Lambda]$."
   ]
  },
  {
   "cell_type": "code",
   "execution_count": 10,
   "metadata": {},
   "outputs": [
    {
     "data": {
      "image/png": "[encoded data removed]",
      "text/latex": [
       "$$- \\frac{G^{2} \\mu_i^{3} m_{12}^{2}}{2 \\tilde{\\Lambda_i}^{2}} + \\frac{G^{2} \\mu_i^{3}}{\\tilde{\\Lambda_i}^{3}} m_{12}^{2} \\left(\\Lambda_i - \\tilde{\\Lambda_i}\\right) - \\frac{3 G^{2} \\mu_i^{3} m_{12}^{2}}{2 \\tilde{\\Lambda_i}^{4}} \\left(\\Lambda_i - \\tilde{\\Lambda_i}\\right)^{2}$$"
      ],
      "text/plain": [
       "    2      3       2      2      3       2                                    \n",
       "   G *\\mu_i *m_{12}      G *\\mu_i *m_{12} *(\\Lambda_i - \\tilde{\\Lambda_i})   3\n",
       "- -------------------- + ------------------------------------------------- - -\n",
       "                     2                                    3                   \n",
       "  2*\\tilde{\\Lambda_i}                    \\tilde{\\Lambda_i}                    \n",
       "\n",
       "  2      3       2                                2\n",
       "*G *\\mu_i *m_{12} *(\\Lambda_i - \\tilde{\\Lambda_i}) \n",
       "---------------------------------------------------\n",
       "                                  4                \n",
       "               2*\\tilde{\\Lambda_i}                 "
      ]
     },
     "execution_count": 10,
     "metadata": {},
     "output_type": "execute_result"
    }
   ],
   "source": [
    "LLambda_o, LLambda_i  = symbols(r\"\\tilde{\\Lambda_o}, \\tilde{\\Lambda_i}\", real=True, positive=True)\n",
    "tmp1 = series(H_k.args[0], Lambda_i, LLambda_i, 3).removeO()\n",
    "tmp1\n",
    "tmp2 = series(H_k.args[1], Lambda_o, LLambda_o, 3).removeO()\n",
    "H_k = expand(tmp1 + tmp2)\n",
    "H_k.args"
   ]
  },
  {
   "cell_type": "code",
   "execution_count": 9,
   "metadata": {},
   "outputs": [
    {
     "ename": "IndexError",
     "evalue": "tuple index out of range",
     "output_type": "error",
     "traceback": [
      "\u001b[0;31m---------------------------------------------------------------------------\u001b[0m",
      "\u001b[0;31mIndexError\u001b[0m                                Traceback (most recent call last)",
      "\u001b[0;32m<ipython-input-9-3d5a64c2eeae>\u001b[0m in \u001b[0;36m<module>\u001b[0;34m()\u001b[0m\n\u001b[0;32m----> 1\u001b[0;31m \u001b[0mH_k_exp\u001b[0m \u001b[0;34m=\u001b[0m \u001b[0mH_k\u001b[0m\u001b[0;34m.\u001b[0m\u001b[0margs\u001b[0m\u001b[0;34m[\u001b[0m\u001b[0;36m2\u001b[0m\u001b[0;34m]\u001b[0m \u001b[0;34m+\u001b[0m \u001b[0mH_k\u001b[0m\u001b[0;34m.\u001b[0m\u001b[0margs\u001b[0m\u001b[0;34m[\u001b[0m\u001b[0;36m3\u001b[0m\u001b[0;34m]\u001b[0m \u001b[0;34m+\u001b[0m \u001b[0mH_k\u001b[0m\u001b[0;34m.\u001b[0m\u001b[0margs\u001b[0m\u001b[0;34m[\u001b[0m\u001b[0;36m4\u001b[0m\u001b[0;34m]\u001b[0m \u001b[0;34m+\u001b[0m \u001b[0mH_k\u001b[0m\u001b[0;34m.\u001b[0m\u001b[0margs\u001b[0m\u001b[0;34m[\u001b[0m\u001b[0;36m5\u001b[0m\u001b[0;34m]\u001b[0m\u001b[0;34m\u001b[0m\u001b[0m\n\u001b[0m\u001b[1;32m      2\u001b[0m n_i, n_o, h_i, h_o = symbols(r\"\\tilde{n_i} \\tilde{n_o} \\tilde{h_i} \\tilde{h_o}\",\n\u001b[1;32m      3\u001b[0m                              real=True, positive=True)\n",
      "\u001b[0;31mIndexError\u001b[0m: tuple index out of range"
     ]
    }
   ],
   "source": [
    "H_k_exp = H_k.args[2] + H_k.args[3] + H_k.args[4] + H_k.args[5]\n",
    "n_i, n_o, h_i, h_o = symbols(r\"\\tilde{n_i} \\tilde{n_o} \\tilde{h_i} \\tilde{h_o}\",\n",
    "                             real=True, positive=True)"
   ]
  },
  {
   "cell_type": "markdown",
   "metadata": {},
   "source": [
    "This can be written as\n",
    "\n",
    "$$\\mathcal{H}_{Kepler}=4([n_i]\\Lambda_i + [n_o]\\Lambda_o) - \\frac{3}{2}([h_i]\\Lambda_i^2 + [h_o]\\Lambda_o^2)$$\n",
    "\n",
    "where\n",
    "\n",
    "$$[n_i]=\\sqrt{\\frac{Gm_{12}}{[a_i]^3}}\\quad[n_o]=\\sqrt{\\frac{Gm_{123}}{[a_o]^3}}$$\n",
    "\n",
    "and\n",
    "\n",
    "$$[h_i]=\\frac{1}{\\mu_i[a_i]^2}\\quad[h_o]=\\frac{1}{\\mu_o[a_o]^2}$$"
   ]
  },
  {
   "cell_type": "code",
   "execution_count": null,
   "metadata": {},
   "outputs": [],
   "source": [
    "sol = solve([\n",
    "    Eq(n_i - sqrt(G*m12/a_i**3)),\n",
    "    Eq(Lambda_i - mu_i*sqrt(G*m12*a_i))], [a_i, Lambda_i])\n",
    "\n",
    "sol[0]"
   ]
  },
  {
   "cell_type": "code",
   "execution_count": null,
   "metadata": {},
   "outputs": [],
   "source": [
    "H_k_exp = H_k_exp.subs({\n",
    "    LLambda_i: n_i/h_i,\n",
    "    LLambda_o: n_o/h_o,\n",
    "    m12: n_i**2*(mu_i*h_i)**(-Rational(3,2))/G,\n",
    "    m123: n_o**2*(mu_o*h_o)**(-Rational(3,2))/G\n",
    "})\n",
    "H_k_exp"
   ]
  },
  {
   "cell_type": "markdown",
   "metadata": {},
   "source": [
    "### The disturbing function part"
   ]
  },
  {
   "cell_type": "markdown",
   "metadata": {},
   "source": [
    "We expand the disturbing function part of the hamiltonian to lowest order in $\\Gamma_i$ and \n",
    "$\\Gamma_o$. The resulting function is proportional to\n",
    "\n",
    "$$\\mathcal{R}\\propto \\sqrt{\\Gamma_i}{\\Gamma_o^2} + \\mathcal{O}(\\Gamma_i, \\Gamma_o^3)$$"
   ]
  },
  {
   "cell_type": "code",
   "execution_count": null,
   "metadata": {},
   "outputs": [],
   "source": [
    "H_dist = -R\n",
    "\n",
    "H_dist = H_dist.subs({\n",
    "    Lambda_i: LLambda_i,\n",
    "    Lambda_o: LLambda_o,\n",
    "    m12: n_i**2*(mu_i*h_i)**(-Rational(3,2))/G,\n",
    "    m123: n_o**2*(mu_o*h_o)**(-Rational(3,2))/G\n",
    "})\n",
    "\n",
    "H_dist\n",
    "series(series(H_dist, Gamma_i, 0, 1).removeO(), Gamma_o, 0, 3)"
   ]
  },
  {
   "cell_type": "code",
   "execution_count": null,
   "metadata": {
    "collapsed": true
   },
   "outputs": [],
   "source": [
    "H_dist = series(series(H_dist, Gamma_i, 0, 1).removeO(), Gamma_o, 0, 3).removeO()"
   ]
  },
  {
   "cell_type": "markdown",
   "metadata": {},
   "source": [
    "### Complete Hamiltonian"
   ]
  },
  {
   "cell_type": "markdown",
   "metadata": {},
   "source": [
    "We will also use the resonant relationship\n",
    "\n",
    "$$n_i^*=6n_o^*$$\n",
    "\n",
    "and eliminate $\\Lambda_i^*$ and $\\Lambda_o^*$ via\n",
    "\n",
    "$$n_i^*=h_i^*\\Lambda_i^*$$"
   ]
  },
  {
   "cell_type": "code",
   "execution_count": null,
   "metadata": {},
   "outputs": [],
   "source": [
    "H_dist = H_dist.subs({\n",
    "    n_o: n_i/6,\n",
    "    LLambda_i: n_i/h_i,\n",
    "    LLambda_o: (n_i/6)/h_o\n",
    "})\n",
    "H_dist"
   ]
  },
  {
   "cell_type": "code",
   "execution_count": null,
   "metadata": {},
   "outputs": [],
   "source": [
    "H_k_exp = H_k_exp.subs({\n",
    "    n_o: n_i/6,\n",
    "    LLambda_i: n_i/h_i,\n",
    "    LLambda_o: (n_i/6)/h_o\n",
    "})\n",
    "H_k_exp"
   ]
  },
  {
   "cell_type": "code",
   "execution_count": null,
   "metadata": {},
   "outputs": [],
   "source": [
    "# Redefine constant in front of the cosine term\n",
    "f_1 = symbols(r\"f_1\", real=True, positive=True)\n",
    "H_dist = f_1*sqrt(Gamma_i)*Gamma_o**2*cos(gamma_i +4*gamma_o +lambda_i - 6*lambda_o)\n",
    "H_dist"
   ]
  },
  {
   "cell_type": "code",
   "execution_count": null,
   "metadata": {},
   "outputs": [],
   "source": [
    "H = H_k_exp + H_dist\n",
    "H"
   ]
  },
  {
   "cell_type": "markdown",
   "metadata": {},
   "source": [
    "# Reduction to one degree of freedom"
   ]
  },
  {
   "cell_type": "markdown",
   "metadata": {},
   "source": [
    "In order to reduce the above Hamiltonian to a single degree of freedom, we make use of a canonical transformation which uses the harmonic angle as one of the new conjugate positions. The transformation is of the form:\n",
    "\n",
    "$$(\\lambda_i, \\lambda_o,\\gamma_i, \\gamma_o, \\Lambda_i, \\Lambda_o, \\Gamma_i, \\Gamma_o)\n",
    "\\rightarrow(\\theta_1, \\theta_2, \\theta_3, \\theta_4, \\Theta_1, \\Theta_2, \\Theta_3, \\Theta_4)$$\n",
    "\n",
    "it is generated by the generating function of the 2nd type defined below."
   ]
  },
  {
   "cell_type": "code",
   "execution_count": null,
   "metadata": {},
   "outputs": [],
   "source": [
    "t1, t2, t3, t4, T1, T2, T3, T4 =\\\n",
    "symbols(r\"\\theta_1, \\theta_2, \\theta_3, \\theta_4, \\Theta_1, \\Theta_2, \\Theta_3, \\Theta_4\",\n",
    "        real=True)\n",
    "\n",
    "# Specify F2\n",
    "n = 6\n",
    "F2 = ((-n*lambda_o + lambda_i + gamma_i)/(n - 2) + gamma_o)*T1\\\n",
    "    +(n*lambda_o - lambda_i + gamma_i)*T2 + lambda_i*T3 + lambda_o*T4\n",
    "\n",
    "H = H.subs({\n",
    "    Lambda_i: diff(F2, lambda_i),\n",
    "    Lambda_o: diff(F2, lambda_o),\n",
    "    Gamma_i: diff(F2, gamma_i),\n",
    "    Gamma_o: diff(F2, gamma_o),\n",
    "    gamma_o: t1 -(n*lambda_o - lambda_i - gamma_i)/(2 - n)\n",
    "})\n",
    "\n",
    "sol = solve([\n",
    "    Eq(diff(F2, lambda_i) - Lambda_i),\n",
    "    Eq(diff(F2, lambda_o) - Lambda_o),\n",
    "    Eq(diff(F2, gamma_i) - Gamma_i),\n",
    "    Eq(diff(F2, gamma_o) - Gamma_o)], [T1, T2, T3 ,T4])\n",
    "sol"
   ]
  },
  {
   "cell_type": "code",
   "execution_count": null,
   "metadata": {},
   "outputs": [],
   "source": [
    "H"
   ]
  },
  {
   "cell_type": "markdown",
   "metadata": {},
   "source": [
    "The square root next to the cosine term is problematic, we thus use the approximation $\\Theta_1\\ll\\Theta_2$. This approximation relies on the fact that $\\frac{\\Gamma_o}{\\Gamma_i}$ is small which is true only if $m_3$ is small compared to $m_1$ and $m_2$ and if $e_o<e_i$. The approximation breaks down when the outer eccentricty surpasses the inner.\n",
    "\n",
    "Finally, after expanding everything and neglecting the constant terms, we obtain:"
   ]
  },
  {
   "cell_type": "code",
   "execution_count": null,
   "metadata": {},
   "outputs": [],
   "source": [
    "T, t = symbols(r\"\\Theta \\theta\", real=True)\n",
    "H = H.subs({\n",
    "    f_1: f_1*(1/sqrt(T1/4 + T2))*sqrt(T2),\n",
    "})\n",
    "H"
   ]
  },
  {
   "cell_type": "code",
   "execution_count": null,
   "metadata": {},
   "outputs": [],
   "source": [
    "H = H.subs({\n",
    "    T1: T,\n",
    "    t1: t,\n",
    "    T2: Gamma_i - Gamma_o/4,\n",
    "    T3: Gamma_i - Gamma_o/2 + Lambda_i,\n",
    "    T4: -6*Gamma_i + 3*Gamma_o + Lambda_o\n",
    "})\n",
    "simplify(H)"
   ]
  },
  {
   "cell_type": "code",
   "execution_count": null,
   "metadata": {},
   "outputs": [],
   "source": [
    "H = collect(expand(H), T).args[0] + collect(expand(H), T).args[1]\n",
    "H"
   ]
  },
  {
   "cell_type": "code",
   "execution_count": null,
   "metadata": {},
   "outputs": [],
   "source": [
    "H = collect(expand(H/(h_o*Lambda_o)), T)\n",
    "H"
   ]
  },
  {
   "cell_type": "markdown",
   "metadata": {},
   "source": [
    "# Analysis of bifurcation points"
   ]
  },
  {
   "cell_type": "code",
   "execution_count": null,
   "metadata": {},
   "outputs": [],
   "source": [
    "tdot = simplify(diff(H, T))\n",
    "simplify(solve(Eq(tdot), T))"
   ]
  },
  {
   "cell_type": "code",
   "execution_count": null,
   "metadata": {},
   "outputs": [],
   "source": [
    "Tdot = -simplify(diff(H, t))\n",
    "Tdot"
   ]
  },
  {
   "cell_type": "code",
   "execution_count": null,
   "metadata": {},
   "outputs": [],
   "source": [
    "sol2 = solve([\n",
    "    Eq(tdot),\n",
    "    Eq(Tdot)], [T, t])\n",
    "\n",
    "sol2"
   ]
  },
  {
   "cell_type": "markdown",
   "metadata": {},
   "source": [
    "Finally, we define the following mixed canonical transformation:\n",
    "\n"
   ]
  },
  {
   "cell_type": "code",
   "execution_count": null,
   "metadata": {
    "collapsed": true
   },
   "outputs": [],
   "source": [
    "# x, y = symbols(\"x, y\", real=True)\n",
    "# H = H.subs({\n",
    "#     Theta: (x**2 + y**2)/2,\n",
    "#     theta: acos(x/sqrt(x**2 + y**2))\n",
    "# })\n",
    "# H "
   ]
  }
 ],
 "metadata": {
  "kernelspec": {
   "display_name": "Python [conda root]",
   "language": "python",
   "name": "conda-root-py"
  },
  "language_info": {
   "codemirror_mode": {
    "name": "ipython",
    "version": 3
   },
   "file_extension": ".py",
   "mimetype": "text/x-python",
   "name": "python",
   "nbconvert_exporter": "python",
   "pygments_lexer": "ipython3",
   "version": "3.5.2"
  }
 },
 "nbformat": 4,
 "nbformat_minor": 2
}
