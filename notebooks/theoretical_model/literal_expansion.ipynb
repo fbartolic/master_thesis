{
 "cells": [
  {
   "cell_type": "code",
   "execution_count": 2,
   "metadata": {
    "collapsed": true
   },
   "outputs": [],
   "source": [
    "import numpy as np\n",
    "from matplotlib import pyplot as plt\n",
    "import matplotlib as mpl\n",
    "from sympy import *\n",
    "\n",
    "mpl.rcParams['axes.labelsize'] = 18\n",
    "mpl.rcParams['xtick.labelsize'] = 12\n",
    "mpl.rcParams['ytick.labelsize'] = 12\n",
    "mpl.rcParams['axes.titlesize'] = 20\n",
    "\n",
    "%matplotlib inline\n",
    "\n",
    "init_printing(use_unicode=False, wrap_line=True)"
   ]
  },
  {
   "cell_type": "code",
   "execution_count": 5,
   "metadata": {},
   "outputs": [
    {
     "data": {
      "image/png": "[encoded data removed]",
      "text/latex": [
       "$$- \\frac{1}{4 \\beta_2} \\left(\\frac{1225 \\alpha^{8}}{1024} + \\frac{75 \\alpha^{6}}{64} + \\frac{9 \\alpha^{4}}{8} + \\alpha^{2}\\right) + \\frac{1}{4 \\beta_1} \\left(\\frac{1225 \\alpha^{8}}{1024} + \\frac{75 \\alpha^{6}}{64} + \\frac{9 \\alpha^{4}}{8} + \\alpha^{2}\\right)$$"
      ],
      "text/plain": [
       "             8            6           4                        8            6 \n",
       "  1225*\\alpha    75*\\alpha    9*\\alpha          2   1225*\\alpha    75*\\alpha  \n",
       "  ------------ + ---------- + --------- + \\alpha    ------------ + ---------- \n",
       "      1024           64           8                     1024           64     \n",
       "- ----------------------------------------------- + --------------------------\n",
       "                     4*\\beta_2                                         4*\\beta\n",
       "\n",
       "          4          \n",
       "  9*\\alpha          2\n",
       "+ --------- + \\alpha \n",
       "      8              \n",
       "---------------------\n",
       "_1                   "
      ]
     },
     "execution_count": 5,
     "metadata": {},
     "output_type": "execute_result"
    }
   ],
   "source": [
    "# Define symbols for orbital elements and constants\n",
    "mu_i, mu_o, a_i, a_o, e_i, e_o, m3, n, G, H22 = \\\n",
    "symbols(\"\\mu_i,\\mu_o,a_i,a_o,e_i,e_o,m_3,n,G,\\mathcal{H}_{22}\", positive=True, real=True)\n",
    "R_sec, R_res, R = symbols(\"\\mathcal{R}_{sec}, \\mathcal{R}_{res}, \\mathcal{R}\", real=True)\n",
    "lambda_i, lambda_o, w_i, w_o = symbols(\"\\lambda_i, \\lambda_o, \\omega_i, \\omega_o\", real=True)\n",
    "\n",
    "# Define Poincaré variables\n",
    "Lambda_i, Gamma_i, Z_i, Lambda_o, Gamma_o, Z_o, m12, m123\\\n",
    "    = symbols(\"\\Lambda_i, Gamma_i, Z_i, \\Lambda_o, Gamma_o, Z_o, m_{12}, m_{123}\", real=True, positive=True)  \n",
    "gamma_o, gamma_i = symbols(\"\\gamma_o, \\gamma_i\", real=True)\n",
    "\n",
    "\n",
    "def Ajm(alpha, beta1, beta2, j, m):\n",
    "    \"\"\"\n",
    "    Calculates the coefficient Ajm in the literal expansion\n",
    "    presented in RM2013.\n",
    "    \"\"\"\n",
    "    if (m == 0):\n",
    "        xi_m = Rational(1,2)\n",
    "    else:\n",
    "        xi_m = 1\n",
    "        \n",
    "    a1, a2, p_min, p = symbols(\"\\\\alpha_1  \\\\alpha2 p_{min} p\", real=True)\n",
    "    a1 = beta1*alpha; a2 = beta2*alpha\n",
    "    \n",
    "    def B_jm(a):\n",
    "        p_min = Max(0, floor(Rational(1, 2)*(j - m + 1)))\n",
    "        E_pjm = lambda p: 2*factorial(2*m + 2*p)*factorial(m + 2*p)*factorial(2*p)\\\n",
    "            /(4**(2*p + m)*factorial(j)*factorial(m + 2*p - j)*(factorial(p)*factorial(m + p))**2)\n",
    "        \n",
    "        return Sum(E_pjm(p)*alpha**(m + 2*p), (p, p_min, oo))\n",
    "    \n",
    "    return xi_m*Rational(1, 2)*(B_jm(a1)/beta1 - B_jm(a2)/beta2)\n",
    "    \n",
    "beta1, beta2, alpha = symbols(\"\\\\beta_1  \\\\beta_2 \\\\alpha\", real=True)\n",
    "\n",
    "Ajm(alpha, beta1, beta2, 1, 0).subs(oo, 4).doit()"
   ]
  },
  {
   "cell_type": "markdown",
   "metadata": {},
   "source": [
    "# Secular disturbing function to 2nd order in eccentricity"
   ]
  },
  {
   "cell_type": "code",
   "execution_count": 16,
   "metadata": {},
   "outputs": [
    {
     "data": {
      "image/png": "[encoded data removed]",
      "text/latex": [
       "$$\\frac{\\nu_o m_{1} m_{2}}{2 m_{12}^{2}} \\left(\\frac{e_{i}}{e_{o}} \\left(- \\frac{m_{12}}{2 m_{2}} \\left(\\frac{75 \\alpha^{5}}{32} + \\frac{9 \\alpha^{3}}{8}\\right) + \\frac{m_{12}}{2 m_{2}} \\left(\\frac{15 \\alpha^{5}}{64} + \\frac{3 \\alpha^{3}}{8} + \\alpha\\right) - \\frac{m_{12}}{2 m_{2}} \\left(\\frac{75 \\alpha^{5}}{64} + \\frac{9 \\alpha^{3}}{8} + \\alpha\\right) - \\frac{m_{12}}{2 m_{1}} \\left(\\frac{75 \\alpha^{5}}{32} + \\frac{9 \\alpha^{3}}{8}\\right) + \\frac{m_{12}}{2 m_{1}} \\left(\\frac{15 \\alpha^{5}}{64} + \\frac{3 \\alpha^{3}}{8} + \\alpha\\right) - \\frac{m_{12}}{2 m_{1}} \\left(\\frac{75 \\alpha^{5}}{64} + \\frac{9 \\alpha^{3}}{8} + \\alpha\\right)\\right) \\cos{\\left (\\omega_o \\right )} + \\frac{m_{12}}{2 m_{2}} \\left(\\frac{9 \\alpha^{4}}{8} + \\alpha^{2}\\right) + \\frac{m_{12}}{2 m_{2}} \\left(\\frac{27 \\alpha^{4}}{16} + \\frac{\\alpha^{2}}{2}\\right) + \\frac{m_{12}}{2 m_{1}} \\left(\\frac{9 \\alpha^{4}}{8} + \\alpha^{2}\\right) + \\frac{m_{12}}{2 m_{1}} \\left(\\frac{27 \\alpha^{4}}{16} + \\frac{\\alpha^{2}}{2}\\right)\\right)$$"
      ],
      "text/plain": [
       "              /    /         /         5           3\\          /         5    \n",
       "              |    |         |75*\\alpha    9*\\alpha |          |15*\\alpha    3\n",
       "              |    |  m_{12}*|---------- + ---------|   m_{12}*|---------- + -\n",
       "              |    |         \\    32           8    /          \\    64        \n",
       "              |e_i*|- ------------------------------- + ----------------------\n",
       "              |    \\               2*m_2                                 2*m_2\n",
       "\\nu_o*m_1*m_2*|---------------------------------------------------------------\n",
       "              \\                                                               \n",
       "------------------------------------------------------------------------------\n",
       "                                                                              \n",
       "                                                                              \n",
       "\n",
       "       3         \\          /         5           3         \\          /      \n",
       "*\\alpha          |          |75*\\alpha    9*\\alpha          |          |75*\\al\n",
       "-------- + \\alpha|   m_{12}*|---------- + --------- + \\alpha|   m_{12}*|------\n",
       "   8             /          \\    64           8             /          \\    32\n",
       "------------------ - ---------------------------------------- - --------------\n",
       "                                      2*m_2                                  2\n",
       "------------------------------------------------------------------------------\n",
       "                                                                 e_o          \n",
       "------------------------------------------------------------------------------\n",
       "                                                                              \n",
       "                                                                              \n",
       "\n",
       "   5           3\\          /         5           3         \\          /       \n",
       "pha    9*\\alpha |          |15*\\alpha    3*\\alpha          |          |75*\\alp\n",
       "---- + ---------|   m_{12}*|---------- + --------- + \\alpha|   m_{12}*|-------\n",
       "           8    /          \\    64           8             /          \\    64 \n",
       "----------------- + ---------------------------------------- - ---------------\n",
       "*m_1                                 2*m_1                                    \n",
       "------------------------------------------------------------------------------\n",
       "                                                                              \n",
       "------------------------------------------------------------------------------\n",
       "                                                2                             \n",
       "                                        2*m_{12}                              \n",
       "\n",
       "  5           3         \\\\                                                    \n",
       "ha    9*\\alpha          ||                                                    \n",
       "--- + --------- + \\alpha||                        /        4          \\       \n",
       "          8             /|                        |9*\\alpha          2|       \n",
       "-------------------------|*cos(\\omega_o)   m_{12}*|--------- + \\alpha |   m_{1\n",
       "  2*m_1                  /                        \\    8              /       \n",
       "---------------------------------------- + ---------------------------- + ----\n",
       "                                                      2*m_2                   \n",
       "------------------------------------------------------------------------------\n",
       "                                                                              \n",
       "                                                                              \n",
       "\n",
       "                                                                              \n",
       "                                                                              \n",
       "   /         4         2\\          /        4          \\          /         4 \n",
       "   |27*\\alpha    \\alpha |          |9*\\alpha          2|          |27*\\alpha  \n",
       "2}*|---------- + -------|   m_{12}*|--------- + \\alpha |   m_{12}*|---------- \n",
       "   \\    16          2   /          \\    8              /          \\    16     \n",
       "------------------------- + ---------------------------- + -------------------\n",
       "        2*m_2                          2*m_1                           2*m_1  \n",
       "------------------------------------------------------------------------------\n",
       "                                                                              \n",
       "                                                                              \n",
       "\n",
       "          \\\n",
       "          |\n",
       "        2\\|\n",
       "  \\alpha ||\n",
       "+ -------||\n",
       "     2   /|\n",
       "----------|\n",
       "          /\n",
       "-----------\n",
       "           \n",
       "           "
      ]
     },
     "execution_count": 16,
     "metadata": {},
     "output_type": "execute_result"
    }
   ],
   "source": [
    "m1, m2, m12, m123, nu_o, nu_i = symbols(r'm_1 m_2 m_{12} m_{123} \\nu_o \\nu_i', positive=True, real=True)\n",
    "omega_o = symbols(r\"\\omega_o\", real=True)\n",
    "\n",
    "edot = -Rational(1,2)*nu_o*(m1*m2/m12**2)*e_i*(Ajm(alpha, beta1, beta2, 0, 1)\\\n",
    "                                              - Ajm(alpha, beta1, beta2, 1, 1)\\\n",
    "                                              - Ajm(alpha, beta1, beta2, 2, 1))*sin(omega_o)\n",
    "\n",
    "wdot = Rational(1,2)*nu_o*(m1*m2/m12**2)*(2*(Ajm(alpha, beta1, beta2, 1, 0) + Ajm(alpha, beta1, beta2, 2, 0))\\\n",
    "    + e_i/e_o*(Ajm(alpha, beta1, beta2, 0, 1) - Ajm(alpha, beta1, beta2, 1, 1) - Ajm(alpha, beta1, beta2, 2, 1))\\\n",
    "                                         *cos(omega_o))\n",
    "\n",
    "edot = edot.subs(oo, 2).doit()\n",
    "wdot = wdot.subs(oo, 2).doit()\n",
    "wdot = wdot.subs({beta1: m1/m12,\n",
    "          beta2: -m2/m12\n",
    "          })\n",
    "edot = edot.subs({beta1: m1/m12,\n",
    "          beta2: -m2/m12\n",
    "          })"
   ]
  },
  {
   "cell_type": "code",
   "execution_count": null,
   "metadata": {
    "collapsed": true
   },
   "outputs": [],
   "source": []
  },
  {
   "cell_type": "code",
   "execution_count": null,
   "metadata": {
    "collapsed": true
   },
   "outputs": [],
   "source": [
    "def hansen_inner(e, l, m, n):\n",
    "    E = symbols(\"E\", real=True)\n",
    "    \n",
    "    r = 1 - e*cos(E)\n",
    "    M = E - e*sin(E)\n",
    "    cosf = (cos(E) - e)/(1 - e*cos(E))\n",
    "    sinf = sqrt(1 - e**2)*sin(E)/(1 - e*cos(E))\n",
    "\n",
    "    integrand = series(r**(l + 1)*(cosf + I*sinf)**m*(cos(n*M) - I*sin(n*M)), e, 0, 6)\n",
    "    return integrate(simplify(integrand), (E, 0, 2*pi))\n",
    "\n",
    "def hansen_outer(e, l, m, n):\n",
    "    E = symbols(\"E\", real=True)\n",
    "    r = 1 - e*cos(E)\n",
    "    M = E - e*sin(E)\n",
    "    cosf = (cos(E) - e)/(1 - e*cos(E))\n",
    "    sinf = sqrt(1 - e**2)*sin(E)/(1 - e*cos(E))\n",
    "\n",
    "    integrand = series((cosf - I*sinf)**m*(cos(n*M) + I*sin(n*M))/r**l, e, 0, 5)\n",
    "    return integrate(integrand, (E, 0, 2*pi))\n",
    "    \n",
    "\n",
    "e = symbols(\"e\", real=True, positive=True)\n",
    "\n",
    "hansen_outer(e, 2, 2, 2)"
   ]
  },
  {
   "cell_type": "code",
   "execution_count": null,
   "metadata": {
    "collapsed": true
   },
   "outputs": [],
   "source": []
  }
 ],
 "metadata": {
  "kernelspec": {
   "display_name": "Python [conda root]",
   "language": "python",
   "name": "conda-root-py"
  },
  "language_info": {
   "codemirror_mode": {
    "name": "ipython",
    "version": 3
   },
   "file_extension": ".py",
   "mimetype": "text/x-python",
   "name": "python",
   "nbconvert_exporter": "python",
   "pygments_lexer": "ipython3",
   "version": "3.5.3"
  }
 },
 "nbformat": 4,
 "nbformat_minor": 2
}
