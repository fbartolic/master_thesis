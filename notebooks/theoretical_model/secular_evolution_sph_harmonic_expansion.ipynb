{
 "cells": [
  {
   "cell_type": "code",
   "execution_count": 1,
   "metadata": {},
   "outputs": [
    {
     "data": {
      "text/html": [
       "<style>.container { width:65% !important; }</style>"
      ],
      "text/plain": [
       "<IPython.core.display.HTML object>"
      ]
     },
     "metadata": {},
     "output_type": "display_data"
    }
   ],
   "source": [
    "import numpy as np\n",
    "from matplotlib import pyplot as plt\n",
    "import matplotlib as mpl\n",
    "import pandas as pd\n",
    "from scipy.integrate import odeint\n",
    "from sympy import *\n",
    "init_printing(use_unicode=False, wrap_line=True)\n",
    "\n",
    "mpl.rc('font',**{'family':'serif','serif':['Palatino']})\n",
    "mpl.rc('text', usetex=True)\n",
    "mpl.rcParams['axes.labelsize'] = 18\n",
    "mpl.rcParams['xtick.labelsize'] = 14\n",
    "mpl.rcParams['ytick.labelsize'] = 14\n",
    "mpl.rcParams['axes.titlesize'] = 20\n",
    "\n",
    "%matplotlib inline\n",
    "\n",
    "# Better looking figures\n",
    "%config InlineBackend.figure_format = 'retina'\n",
    "\n",
    "# Make cells narrower for better typography\n",
    "from IPython.core.display import display, HTML\n",
    "display(HTML(\"<style>.container { width:65% !important; }</style>\"))"
   ]
  },
  {
   "cell_type": "markdown",
   "metadata": {},
   "source": [
    "# Expansion to hexapole order"
   ]
  },
  {
   "cell_type": "code",
   "execution_count": 2,
   "metadata": {},
   "outputs": [
    {
     "data": {
      "image/png": "[encoded data removed]",
      "text/latex": [
       "$$\\frac{3 G \\alpha^{4} \\mu_i e_{o} m_{3} \\cos{\\left (2 \\omega_o \\right )}}{4 a_{o} \\left(- e_{o}^{2} + 1\\right)^{3.5}} \\left(1 + 0.5 e^{2}\\right) \\left(0.3125 \\beta_1^{3} - 0.3125 \\beta_2^{3}\\right)$$"
      ],
      "text/plain": [
       "                                                                              \n",
       "          4               /         2\\ /              3                 3\\ /  \n",
       "3*G*\\alpha *\\mu_i*e_o*m_3*\\1 + 0.5*e /*\\0.3125*\\beta_1  - 0.3125*\\beta_2 /*\\- \n",
       "------------------------------------------------------------------------------\n",
       "                                                   4*a_o                      \n",
       "\n",
       "         -3.5                \n",
       "   2    \\                    \n",
       "e_o  + 1/    *cos(2*\\omega_o)\n",
       "-----------------------------\n",
       "                             "
      ]
     },
     "execution_count": 2,
     "metadata": {},
     "output_type": "execute_result"
    }
   ],
   "source": [
    "m1, m2, a_i, a_o, e_i, e_o, m3, G, mu_i, alpha, mu_o = \\\n",
    "symbols(r\"m_1, m_2, a_i, a_o, e_i, e_o, m_3, G, \\mu_i, \\alpha, \\mu_o\", positive=True, real=True)\n",
    "\n",
    "w_i, w_o, m12, m123, nu_i, nu_o, beta1, beta2, omega_o = \\\n",
    "    symbols(r\"\\omega_i, \\omega_o, m_{12}, m_{123}, n_i, n_o, \\beta_1 \\beta_2 \\omega_o\", real=True)\n",
    "\n",
    "j, m, l, k = symbols('j m l k', real=True, interger=True)\n",
    "    \n",
    "def hansen_inner(l, m):\n",
    "    expr = ((l - m + 1)/2 - k)*((l - m)/2 - k)/((m + k + 1)*(k + 1))*exp(2*j)\n",
    "    h_i = 1 + Sum(Product(expr, (k, 0, j - 1)), (j, 1, (l - m)/2))\n",
    "    return h_i\n",
    "\n",
    "def hansen_outer(l, m):\n",
    "    a = e_o/2**m*(1 - e_o**2)**(-(2*l - 1)/2)\n",
    "    summand = binomial(l - 1, 2*j + m)*binomial(2*j + m, j)*(e_o**2/2)**j\n",
    "    return a*Sum(summand, (j, 0, floor((l - m - 1)/2))).doit()\n",
    "                                                \n",
    "\n",
    "M_l = lambda l: beta1**(l - 1) - beta2**(l - 1)\n",
    "clm_sq = lambda l, m: factorial(l - m)*factorial(l + m)/(2**(2*l - 1)\\\n",
    "    *(factorial((l + m)/2)*factorial((l - m)/2))**2)\n",
    "    \n",
    "\n",
    "hex_term = clm_sq(4, 2)*M_l(4)*alpha**4*hansen_inner(4,2)*hansen_outer(4, 2)\n",
    "hex_term = hex_term.doit()*cos(2*omega_o)*G*mu_i*m3/a_o\n",
    "hex_term"
   ]
  },
  {
   "cell_type": "code",
   "execution_count": 3,
   "metadata": {},
   "outputs": [],
   "source": [
    "# Lagrange equation\n",
    "eodot_hex = -sqrt(1- e_o**2)/(mu_o*nu_o*e_o*a_o**2)*diff(hex_term, omega_o)\n",
    "wodot_hex = sqrt(1- e_o**2)/(mu_o*nu_o*e_o*a_o**2)*diff(hex_term, e_o)"
   ]
  },
  {
   "cell_type": "markdown",
   "metadata": {},
   "source": [
    "# Fixed points of the secular equations\n",
    "\n",
    "The fixed points are given by the solution of the following equations"
   ]
  },
  {
   "cell_type": "code",
   "execution_count": 4,
   "metadata": {},
   "outputs": [
    {
     "data": {
      "image/png": "[encoded data removed]",
      "text/latex": [
       "$$\\frac{\\sqrt{- e_{o}^{2} + 1}}{\\mu_o a_{o}^{2} e_{o} n_{o}} \\left(\\frac{5.25 G \\alpha^{4} \\mu_i e_{o}^{2} m_{3}}{a_{o} \\left(- e_{o}^{2} + 1\\right)^{4.5}} \\left(1 + 0.5 e^{2}\\right) \\left(0.3125 \\beta_1^{3} - 0.3125 \\beta_2^{3}\\right) \\cos{\\left (2 \\omega_o \\right )} + \\frac{3 G \\alpha^{4} \\mu_i m_{3} \\cos{\\left (2 \\omega_o \\right )}}{4 a_{o} \\left(- e_{o}^{2} + 1\\right)^{3.5}} \\left(1 + 0.5 e^{2}\\right) \\left(0.3125 \\beta_1^{3} - 0.3125 \\beta_2^{3}\\right)\\right)$$"
      ],
      "text/plain": [
       "                /                                                             \n",
       "   ____________ |             4          2     /         2\\ /              3  \n",
       "  /      2      |5.25*G*\\alpha *\\mu_i*e_o *m_3*\\1 + 0.5*e /*\\0.3125*\\beta_1  -\n",
       "\\/  - e_o  + 1 *|-------------------------------------------------------------\n",
       "                \\                                                      a_o    \n",
       "------------------------------------------------------------------------------\n",
       "                                                                              \n",
       "                                                                              \n",
       "\n",
       "                              -4.5                                            \n",
       "               3\\ /     2    \\                                 4           /  \n",
       " 0.3125*\\beta_2 /*\\- e_o  + 1/    *cos(2*\\omega_o)   3*G*\\alpha *\\mu_i*m_3*\\1 \n",
       "-------------------------------------------------- + -------------------------\n",
       "                                                                              \n",
       "------------------------------------------------------------------------------\n",
       "                                        2                                     \n",
       "                               \\mu_o*a_o *e_o*n_o                             \n",
       "\n",
       "                                                          -3.5                \n",
       "       2\\ /              3                 3\\ /     2    \\                    \n",
       "+ 0.5*e /*\\0.3125*\\beta_1  - 0.3125*\\beta_2 /*\\- e_o  + 1/    *cos(2*\\omega_o)\n",
       "------------------------------------------------------------------------------\n",
       "                        4*a_o                                                 \n",
       "------------------------------------------------------------------------------\n",
       "                                                                              \n",
       "                                                                              \n",
       "\n",
       "\\\n",
       "|\n",
       "|\n",
       "|\n",
       "/\n",
       "-\n",
       " \n",
       " "
      ]
     },
     "execution_count": 4,
     "metadata": {},
     "output_type": "execute_result"
    }
   ],
   "source": [
    "w_o_dot = nu_o*m1*m2/m12**2*(3*alpha**2/4*(1 + 3*e_i**2/2)/(1 - e_o**2)**2\\\n",
    "        -15*(m1 - m2)/m12*alpha**3*(1 + 3*e_i**2/4)*e_i/e_o*(1 + 4*e_o**2)/\\\n",
    "        (1 - e_o**2)**3*cos(w_o)/16) + wodot_hex\n",
    "\n",
    "e_o_dot = nu_o*15*m1*m2/m12**2*(m1 - m2)/m12*alpha**3*e_i*(1 + 3*e_i**2/4)/\\\n",
    "        (1 - e_o**2)**2*sin(w_o)/16 + eodot_hex\n",
    "    \n",
    "w_o_dot = w_o_dot.subs({beta1: m2/m12,\n",
    "                      beta2: -m2/m12})\n",
    "e_o_dot = e_o_dot.subs({beta1: m2/m12,\n",
    "                      beta2: -m2/m12})\n",
    "\n",
    "w_o_dot = w_o_dot.subs({omega_o: 0})\n",
    "wodot_hex\n",
    "# solv = solve(w_o_dot, e_i)"
   ]
  },
  {
   "cell_type": "markdown",
   "metadata": {},
   "source": [
    "The first equation can only be satisfied if $q=1$ or $\\omega_o=\\{0, \\phi\\}$. We choose\n",
    "$q\\neq 1$, therefore, the second equation reduces to"
   ]
  },
  {
   "cell_type": "markdown",
   "metadata": {},
   "source": [
    "### Finding zeroes\n",
    "The easiest way to find the solution is to plot $\\dot{\\omega_o}$ as a function of $e_0$."
   ]
  },
  {
   "cell_type": "code",
   "execution_count": null,
   "metadata": {},
   "outputs": [
    {
     "name": "stderr",
     "output_type": "stream",
     "text": [
      "/home/fran/anaconda3/lib/python3.5/site-packages/ipykernel/__main__.py:32: RuntimeWarning: divide by zero encountered in power\n",
      "/home/fran/anaconda3/lib/python3.5/site-packages/ipykernel/__main__.py:32: RuntimeWarning: divide by zero encountered in true_divide\n",
      "/home/fran/anaconda3/lib/python3.5/site-packages/ipykernel/__main__.py:32: RuntimeWarning: invalid value encountered in subtract\n",
      "/home/fran/anaconda3/lib/python3.5/site-packages/ipykernel/__main__.py:34: RuntimeWarning: divide by zero encountered in power\n"
     ]
    }
   ],
   "source": [
    "from scipy.optimize import root\n",
    "\n",
    "# Parameter values:\n",
    "n = np.linspace(1, 6.5, 100)\n",
    "roots = np.zeros(100)\n",
    "    \n",
    "for i, p in enumerate(n):\n",
    "    m1_ = 1.2\n",
    "    m2_ = 1.2*0.6\n",
    "    m3_ = 1e-03\n",
    "    nu_i_ = 2*np.pi/(20/365.25)\n",
    "    nu_o_ = 2*np.pi/((20/365.25)*p)\n",
    "    e_i_ = 0.3\n",
    "    P_o = (p*20/365.25)\n",
    "\n",
    "    # ratio of semi-major axes from Kepler's third law\n",
    "    alpha_ = ((m1_ + m2_)/(m1_ + m2_ + m3_))**(1/3.)*(nu_o_/nu_i_)**(2/3.)\n",
    "\n",
    "    m12_ = m1_ + m2_\n",
    "    m123_ = m1_ + m2_ + m3\n",
    "    mu_o_ = m12*m3/m123\n",
    "    mu_i_ = m1*m2/m12\n",
    "    beta_1 = m1/m12\n",
    "    beta_2 = -m1/m12\n",
    "    a_o_ = P_o**(2/3)*m123**(1/3)\n",
    "    \n",
    "    A = nu_o_*(m1_*m2_/m12_**2)*(3/4)*alpha_**2*(1 + 3**e_i_**2/2),\n",
    "    B = nu_o_*(m1_*m2_/m12_**2)*(15/16)*((m1_ - m2_)/m12_)*alpha_**3*(1 + 3*e_i_**2/4)*e_i_\n",
    "\n",
    "    e_o_ = np.linspace(0, 1, 1000)\n",
    "\n",
    "    omega_dot_ = A*(1 - e_o_**2)**(-2) - B*(1 + 4*e_o_**2)/(e_o_*(1 - e_o_**2)**3) \n",
    "    \n",
    "    hex_term_ad = np.sqrt(-e_o_**2 + 1)*(5.25*4*np.pi**2*alpha_**4*mu_i_*e_o_**2*m3_*\\\n",
    "    (1 + 0.5*exp(2))*(0.3125*beta_1**3 - 0.3125*beta_2**3)*(-e_o_**2 + 1)**(-4.5)\\\n",
    "    /a_o + 3*4*np.pi**2*alpha_**4*mu_i_*m3_*(1 + 0.5*np.exp(2))*(0.3125*beta_1**3 - 0.3125*beta_2**3)*(-e_o_**2 + 1)**(-3.5)/(4*a_o_))/\\\n",
    "    (mu_o_*a_o_**2*e_o_*nu_o_)\n",
    "    \n",
    "    omega_dot_ = omega_dot_ + hex_term_ad\n",
    "\n",
    "    #Find roots numerically\n",
    "\n",
    "    function = lambda e_o_: A/(1 - e_o_**2)**(2) - B*(1 + 4*e_o_**2)/(e_o_*(1 - e_o_**2)**3)\n",
    "\n",
    "    result = root(function, [0.1])\n",
    "\n",
    "    roots[i] = result.x[0]\n",
    "\n",
    "fig, ax = plt.subplots(figsize=(8,6))\n",
    "ax.plot(n, roots)\n",
    "ax.set_ylim(0, 0.3)\n",
    "ax.set_xlabel(r'$P_o/P_i$')\n",
    "ax.set_ylabel(r'$e_{forced}$')\n",
    "ax.grid(True)"
   ]
  },
  {
   "cell_type": "code",
   "execution_count": null,
   "metadata": {},
   "outputs": [],
   "source": [
    "print(roots[-1])"
   ]
  },
  {
   "cell_type": "markdown",
   "metadata": {},
   "source": [
    "It appears that there is a root at about 0.03 and another one at around 0.9 at $\\omega_o=0$ and $P_o/P_i=5.5$ , at $\\omega_o=\\pi$ there are no real roots. Let's try to solve the equation using\n",
    "Sympy."
   ]
  },
  {
   "cell_type": "code",
   "execution_count": null,
   "metadata": {},
   "outputs": [],
   "source": [
    "A, B, alpha = symbols(r'A B \\alpha', real=True, positive=True)\n",
    "omega_dot = A*(1 - e_o**2)**(-2) - B*(1 + 4*e_o**2)/(e_o*(1 - e_o**2)**3)\n",
    "solution = solve(omega_dot, e_o)\n",
    "solution[0]"
   ]
  },
  {
   "cell_type": "code",
   "execution_count": null,
   "metadata": {},
   "outputs": [],
   "source": [
    "solution[0].subs({\n",
    "    A: 0.001650118716251345,\n",
    "    B: 4.644470964702057e-05\n",
    "})\n",
    "\n",
    "print(alpha_)"
   ]
  },
  {
   "cell_type": "code",
   "execution_count": null,
   "metadata": {
    "collapsed": true
   },
   "outputs": [],
   "source": [
    "def lagrange_equations(var, t, params):\n",
    "    \"\"\"\n",
    "    Defines the differential equations for the secular evolution of \n",
    "    a three body system.\n",
    "    \n",
    "    Arguments:\n",
    "        var :  vector of the state variables:\n",
    "                  var = [e_i, w_i, e_o, w_o]\n",
    "        t :  time\n",
    "        params :  vector of the parameters:\n",
    "                  params = [m1, m2, m3, nu_i, nu_o, a_i, alpha]\n",
    "    \"\"\"\n",
    "    e_i, w_i, e_o, w_o = var\n",
    "    m1, m2, m3, nu_i, nu_o, alpha = params\n",
    "    m12 = m1 + m2\n",
    "    # Calculate derivatives\n",
    "    f = np.array([\n",
    "        -nu_i*(15/16.)*(m3/m12)*(m1 - m2)/m12*alpha**4*e_o*\\\n",
    "        (1 + 3/4*e_i**2)*(1 - e_i**2)**.5/(1 - e_o**2)**2.5*np.sin(w_i - w_o),\n",
    "        \n",
    "        nu_i*m3/m12*(3/4*alpha**3*(1 - e_i**2)**.5/(1 - e_o**2)**(3/2.) -\\\n",
    "        15/16.)*(m1 - m2)/m12*alpha**4*e_o*(1 + 9/4*e_i**2)*(1 - e_i**2)**.5/\\\n",
    "        e_i*(1 - e_o**2)**2.5*np.cos(w_i - w_o),\n",
    "        \n",
    "        nu_o*15/16.*m1*m2/m12**2*(m1 - m2)/m12*alpha**3*e_i*(1 + 3/4.*e_i**2)/\\\n",
    "        (1 - e_o**2)**2*np.sin(w_i - w_o),\n",
    "        \n",
    "        nu_o*m1*m2/m12**2*(3/4.*alpha**2*(1 + 3/2.*e_i**2)/(1 - e_o**2)**2 -\\\n",
    "        15/16.*(m1 - m2)/m12*alpha**3*(1 + 3/4.*e_i**2)*e_i/e_o*(1 + 4*e_o**2)/\\\n",
    "        (1 - e_o**2)**3*np.cos(w_i - w_o))\n",
    "    ])\n",
    "    return f\n",
    "\n",
    "# Parameter values:\n",
    "m1_ = 1.2\n",
    "m2_ = 0.6*1.2\n",
    "m3_ = 1e-03\n",
    "nu_i_ = 2*np.pi/20\n",
    "nu_o_ = 2*np.pi/(20*5.5)\n",
    "\n",
    "# ratio of semi-major axes from Kepler's third law\n",
    "alpha_ = ((m1_ + m2_)/(m1_ + m2_ + m3_))**(1/3.) * (nu_o_/nu_i_)**(2/3.)\n",
    "\n",
    "# Initial conditions \n",
    "e_i_ = 0.4\n",
    "w_i = 0.\n",
    "e_o_ = 0.0365\n",
    "w_o = 0.\n",
    "\n",
    "# ODE solver parameters\n",
    "# abserr = 1.0e-8\n",
    "# relerr = 1.0e-6\n",
    "\n",
    "# Time grid\n",
    "t = np.linspace(0, 1e07, 100000)\n",
    "\n",
    "params = np.array([m1_, m2_, m3_, nu_i_, nu_o_, alpha_])\n",
    "var0 = np.array([e_i_, w_i, e_o_, w_o])\n",
    "\n",
    "# Call the ODE solver.\n",
    "sol = odeint(lagrange_equations, var0, t, args=(params,))"
   ]
  },
  {
   "cell_type": "code",
   "execution_count": null,
   "metadata": {
    "scrolled": false
   },
   "outputs": [],
   "source": [
    "# Plot results\n",
    "fig, ax = plt.subplots(3, figsize=(6,15))\n",
    "fig.subplots_adjust(wspace=.3)\n",
    "\n",
    "sol[:, 1] = 180/np.pi*(sol[:, 1] % (2*np.pi))\n",
    "sol[:, 3] = 180/np.pi*(sol[:, 3] % (2*np.pi))\n",
    "\n",
    "for a in fig.axes:\n",
    "    a.set_xlabel(r'$t$ [Myr]')\n",
    "    a.grid(True)\n",
    "    \n",
    "t_step = 100\n",
    "    \n",
    "ax[0].plot(t[::t_step]/1e06, sol[::t_step, 0])\n",
    "ax[0].set_ylabel(r'$e_i$')\n",
    "ax[0].set_ylim(0., 0.2)\n",
    "\n",
    "ax[1].plot(t[::t_step]/1e06, sol[::t_step, 2])\n",
    "ax[1].set_ylabel(r'$e_o$')\n",
    "ax[1].set_ylim(0., 0.1)\n",
    "\n",
    "ax[2].plot(t[::t_step]/1e06, sol[::t_step, 1] - sol[::t_step, 3])\n",
    "ax[2].set_ylabel(r'$\\varpi_i-\\varpi_o$')\n",
    "# ax[2].set_ylim(0., 360)"
   ]
  },
  {
   "cell_type": "code",
   "execution_count": null,
   "metadata": {
    "collapsed": true
   },
   "outputs": [],
   "source": []
  }
 ],
 "metadata": {
  "kernelspec": {
   "display_name": "Python [conda root]",
   "language": "python",
   "name": "conda-root-py"
  },
  "language_info": {
   "codemirror_mode": {
    "name": "ipython",
    "version": 3
   },
   "file_extension": ".py",
   "mimetype": "text/x-python",
   "name": "python",
   "nbconvert_exporter": "python",
   "pygments_lexer": "ipython3",
   "version": "3.5.3"
  }
 },
 "nbformat": 4,
 "nbformat_minor": 2
}
